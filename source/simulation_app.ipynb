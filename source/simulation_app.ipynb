{
 "cells": [
  {
   "cell_type": "code",
   "execution_count": 1,
   "id": "7072e144",
   "metadata": {},
   "outputs": [
    {
     "name": "stdout",
     "output_type": "stream",
     "text": [
      "/home/ec2-user/SageMaker/Household Socio-Economic Surveys/analytics_simulation_public_policy_scl/source\n"
     ]
    },
    {
     "data": {
      "text/plain": [
       "'/home/ec2-user/SageMaker/Household Socio-Economic Surveys/analytics_simulation_public_policy_scl/source'"
      ]
     },
     "execution_count": 1,
     "metadata": {},
     "output_type": "execute_result"
    }
   ],
   "source": [
    "%cd ../source/\n",
    "%pwd"
   ]
  },
  {
   "cell_type": "code",
   "execution_count": 2,
   "id": "bb299cad",
   "metadata": {},
   "outputs": [],
   "source": [
    "%%capture\n",
    "%matplotlib inline\n",
    "from scldata_simulation import * "
   ]
  },
  {
   "cell_type": "code",
   "execution_count": 3,
   "id": "63e229d2",
   "metadata": {},
   "outputs": [
    {
     "name": "stderr",
     "output_type": "stream",
     "text": [
      "/home/ec2-user/anaconda3/envs/python3/lib/python3.6/site-packages/IPython/core/interactiveshell.py:3343: DtypeWarning: Columns (7,8) have mixed types.Specify dtype option on import or set low_memory=False.\n",
      "  exec(code_obj, self.user_global_ns, self.user_ns)\n"
     ]
    }
   ],
   "source": [
    "## Instantiate simulator \n",
    "scldata_simulation = SCLdataSimulation()"
   ]
  },
  {
   "cell_type": "code",
   "execution_count": 4,
   "id": "838804b1",
   "metadata": {},
   "outputs": [],
   "source": [
    "change_list = []"
   ]
  },
  {
   "cell_type": "markdown",
   "id": "95ec3f9f",
   "metadata": {},
   "source": [
    "## Simulation"
   ]
  },
  {
   "cell_type": "code",
   "execution_count": null,
   "id": "6ccea1ae",
   "metadata": {},
   "outputs": [],
   "source": [
    "shock_weights = [i/100 for i in range(0,60,10) ]\n",
    "shock_populations = [{}, {'sec_agri': 0}]\n",
    "\n",
    "for shock_population in shock_populations:\n",
    "    for gdp_growth in ['IMF', None]:\n",
    "        ###############################\n",
    "        # Granos_panes_cereales\n",
    "        ###############################    \n",
    "        shock_component = ['Granos',\n",
    "                           'Panes y\\ncereales']\n",
    "        simulations_concat = scldata_simulation.simulate_changes(shock_component, shock_weights, shock_population,\n",
    "                                                                 gdp_growth_population='',gdp_growth=gdp_growth, year='2022')\n",
    "        simulations_concat['shock_component'] = 'Granos_panes_cereales'\n",
    "        simulations_concat['shock_population'] = ''.join(shock_population)\n",
    "        simulations_concat['gdp_growth'] = gdp_growth\n",
    "        #simulations_concat.to_csv('../data/simulations_concat.csv', index=False)\n",
    "        change_list.append(simulations_concat)\n",
    "\n",
    "        ###############################\n",
    "        # Granos\n",
    "        ###############################\n",
    "        shock_component = ['Granos']\n",
    "        simulations_concat = scldata_simulation.simulate_changes(shock_component, shock_weights, shock_population,\n",
    "                                                                 gdp_growth_population='',gdp_growth=gdp_growth, year='2022')\n",
    "        simulations_concat['shock_component'] = 'Granos'\n",
    "        simulations_concat['shock_population'] = ''.join(shock_population)\n",
    "        simulations_concat['gdp_growth'] = gdp_growth\n",
    "        #simulations_concat.to_csv('../data/simulations_concat_Granos.csv', index=False)\n",
    "        change_list.append(simulations_concat)\n",
    "\n",
    "        ###############################\n",
    "        # all_no_meat\n",
    "        ###############################\n",
    "        shock_component = ['Alimentos fuera del hogar',\n",
    "                           'Bebidas no alcohólicas',\n",
    "                           'Frutas', \n",
    "                           'Granos',\n",
    "                           'Panes y\\ncereales',\n",
    "                           'Grasas', \n",
    "                           'Leguminosas',\n",
    "                           'Lácteos', \n",
    "                           'Productos no especificados previamente',\n",
    "                           'Raíces y\\ntubérculos', 'Vegetales'\n",
    "                          ]\n",
    "        simulations_concat = scldata_simulation.simulate_changes(shock_component, shock_weights, shock_population,\n",
    "                                                                 gdp_growth_population='',gdp_growth=gdp_growth, year='2022')\n",
    "        simulations_concat['shock_component'] = 'all_no_meat'\n",
    "        simulations_concat['shock_population'] = ''.join(shock_population)\n",
    "        simulations_concat['gdp_growth'] = gdp_growth\n",
    "        change_list.append(simulations_concat)\n",
    "\n",
    "        ###############################\n",
    "        # all\n",
    "        ###############################\n",
    "        shock_component = ['Alimentos fuera del hogar',\n",
    "                           'Azúcares', 'Bebidas no alcohólicas',\n",
    "                           'Carnes, aves y huevos',\n",
    "                           'Frutas', \n",
    "                           'Granos',\n",
    "                           'Panes y\\ncereales',\n",
    "                           'Grasas', \n",
    "                           'Leguminosas',\n",
    "                           'Lácteos', \n",
    "                           'Productos no especificados previamente',\n",
    "                           'Raíces y\\ntubérculos', 'Vegetales'\n",
    "                          ]\n",
    "\n",
    "        simulations_concat = scldata_simulation.simulate_changes(shock_component, shock_weights, shock_population,\n",
    "                                                                 gdp_growth_population='',gdp_growth=gdp_growth, year='2022')\n",
    "        simulations_concat['shock_component'] = 'all'\n",
    "        simulations_concat['shock_population'] = ''.join(shock_population)\n",
    "        simulations_concat['gdp_growth'] = gdp_growth\n",
    "        change_list.append(simulations_concat)"
   ]
  },
  {
   "cell_type": "code",
   "execution_count": null,
   "id": "0ddb7ebd",
   "metadata": {},
   "outputs": [],
   "source": [
    "final = pd.concat(change_list)"
   ]
  },
  {
   "cell_type": "code",
   "execution_count": 8,
   "id": "ceec185e",
   "metadata": {},
   "outputs": [],
   "source": [
    "final.to_csv('../data/simulations_concat.csv', index=False)"
   ]
  }
 ],
 "metadata": {
  "kernelspec": {
   "display_name": "conda_python3",
   "language": "python",
   "name": "conda_python3"
  },
  "language_info": {
   "codemirror_mode": {
    "name": "ipython",
    "version": 3
   },
   "file_extension": ".py",
   "mimetype": "text/x-python",
   "name": "python",
   "nbconvert_exporter": "python",
   "pygments_lexer": "ipython3",
   "version": "3.6.13"
  }
 },
 "nbformat": 4,
 "nbformat_minor": 5
}
