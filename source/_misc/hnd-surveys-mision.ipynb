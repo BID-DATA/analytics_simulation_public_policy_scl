{
 "cells": [
  {
   "cell_type": "markdown",
   "id": "9a32483a",
   "metadata": {},
   "source": [
    "## Programa Presidencial “Bono Vida Mejor\" en sus Dominios Rural y Urbano\n",
    "### Ejercicio de transferencias"
   ]
  },
  {
   "cell_type": "raw",
   "id": "9455c9c2",
   "metadata": {},
   "source": [
    "<script>\n",
    "  function code_toggle() {\n",
    "    if (code_shown){\n",
    "      $('div.input').hide('500');\n",
    "      $('#toggleButton').val('Show Code')\n",
    "    } else {\n",
    "      $('div.input').show('500');\n",
    "      $('#toggleButton').val('Hide Code')\n",
    "    }\n",
    "    code_shown = !code_shown\n",
    "  }\n",
    "\n",
    "  $( document ).ready(function(){\n",
    "    code_shown=false;\n",
    "    $('div.input').hide()\n",
    "  });\n",
    "</script>\n",
    "<form action=\"javascript:code_toggle()\"><input type=\"submit\" id=\"toggleButton\" value=\"Show Code\"></form>"
   ]
  },
  {
   "cell_type": "code",
   "execution_count": 1,
   "id": "8cd6013a",
   "metadata": {},
   "outputs": [],
   "source": [
    "# Libraries \n",
    "import os\n",
    "import random\n",
    "import numpy as np\n",
    "import pandas as pd\n",
    "from dotenv import load_dotenv\n",
    "\n"
   ]
  },
  {
   "cell_type": "code",
   "execution_count": 2,
   "id": "2841b3e4",
   "metadata": {},
   "outputs": [],
   "source": [
    "# Working directory\n",
    "load_dotenv('/home/ec2-user/SageMaker/.env')\n",
    "sclbucket = os.getenv('sclbucket')\n",
    "scldatalake = 's3://{0}'.format(sclbucket)"
   ]
  },
  {
   "cell_type": "code",
   "execution_count": 5,
   "id": "78dd1eb1",
   "metadata": {},
   "outputs": [],
   "source": [
    "%%capture\n",
    "# Import data \n",
    "recurso = 'Household Socio-Economic Surveys/Harmonized Household Surveys/concat'\n",
    "file    = 'harmonized-latest-v3.csv'\n",
    "data    = pd.read_csv(f'{scldatalake}/{recurso}/{file}')"
   ]
  },
  {
   "cell_type": "code",
   "execution_count": 6,
   "id": "4d8a64fb",
   "metadata": {},
   "outputs": [],
   "source": [
    "# Data Honduras\n",
    "data_hnd = data[data.pais_c == \"HND\"]"
   ]
  },
  {
   "cell_type": "markdown",
   "id": "e2a9b382",
   "metadata": {},
   "source": [
    "### Pobreza nacional"
   ]
  },
  {
   "cell_type": "code",
   "execution_count": 12,
   "id": "bedcbe97",
   "metadata": {},
   "outputs": [
    {
     "name": "stdout",
     "output_type": "stream",
     "text": [
      "Pobreza nacional        : 63.03%\n",
      "Pobreza extrema nacional: 40.62%\n"
     ]
    }
   ],
   "source": [
    "# Pobreza nacional\n",
    "poor_national   = data_hnd.groupby(\"poor_national\").factor_ci.sum()  / data_hnd.groupby(\"poor_national\").factor_ci.sum().sum()\n",
    "poor_national   = poor_national[1]\n",
    "\n",
    "# Pobreza extrema nacional\n",
    "poor_e_national = data_hnd.groupby(\"poor_e_national\").factor_ci.sum() / data_hnd.groupby(\"poor_national\").factor_ci.sum().sum()\n",
    "poor_e_national = poor_e_national[1]\n",
    "\n",
    "# Results\n",
    "print(\"Pobreza nacional        : {:.2f}%\".format(poor_national  *100))\n",
    "print(\"Pobreza extrema nacional: {:.2f}%\".format(poor_e_national*100))"
   ]
  },
  {
   "cell_type": "markdown",
   "id": "4f6b56d3",
   "metadata": {},
   "source": [
    "### Simulador"
   ]
  },
  {
   "cell_type": "code",
   "execution_count": null,
   "id": "89988eae",
   "metadata": {},
   "outputs": [],
   "source": []
  },
  {
   "cell_type": "code",
   "execution_count": 198,
   "id": "b2dbe8d7",
   "metadata": {},
   "outputs": [
    {
     "data": {
      "text/plain": [
       "poor_national\n",
       "0.0    0.369657\n",
       "1.0    0.630343\n",
       "Name: factor_ci, dtype: float64"
      ]
     },
     "execution_count": 198,
     "metadata": {},
     "output_type": "execute_result"
    }
   ],
   "source": [
    "hh.groupby(\"poor_national\").factor_ci.sum()  / hh.groupby(\"poor_national\").factor_ci.sum().sum()"
   ]
  },
  {
   "cell_type": "code",
   "execution_count": 199,
   "id": "2f324960",
   "metadata": {},
   "outputs": [],
   "source": [
    "result = simulacion(0, 0, [0], 100, 1)"
   ]
  },
  {
   "cell_type": "code",
   "execution_count": 200,
   "id": "312d1c74",
   "metadata": {},
   "outputs": [
    {
     "data": {
      "text/plain": [
       "poor_national_new\n",
       "0.0    0.369657\n",
       "1.0    0.630343\n",
       "Name: factor_ci, dtype: float64"
      ]
     },
     "execution_count": 200,
     "metadata": {},
     "output_type": "execute_result"
    }
   ],
   "source": [
    "result.groupby(\"poor_national_new\").factor_ci.sum()  / result.groupby(\"poor_national_new\").factor_ci.sum().sum()"
   ]
  },
  {
   "cell_type": "code",
   "execution_count": 219,
   "id": "4af1d745",
   "metadata": {},
   "outputs": [],
   "source": [
    "result = simulacion(350000, 0.5, [335,200], 16, 1)"
   ]
  },
  {
   "cell_type": "code",
   "execution_count": 218,
   "id": "c48c151c",
   "metadata": {},
   "outputs": [
    {
     "data": {
      "text/plain": [
       "poor_national_new\n",
       "0.0    0.375331\n",
       "1.0    0.624669\n",
       "Name: factor_ci, dtype: float64"
      ]
     },
     "execution_count": 218,
     "metadata": {},
     "output_type": "execute_result"
    }
   ],
   "source": [
    "result.groupby(\"poor_national_new\").factor_ci.sum()  / result.groupby(\"poor_national_new\").factor_ci.sum().sum()"
   ]
  },
  {
   "cell_type": "code",
   "execution_count": 221,
   "id": "cdfe6463",
   "metadata": {},
   "outputs": [],
   "source": [
    "def simulacion(nbenef, pbenef_rural, monto, max_edad, pob_grupo = 1):\n",
    "    # Seed\n",
    "    random.seed(1)\n",
    "    \n",
    "    # Definir población elegible\n",
    "    # Copiar data\n",
    "    hh = data_hnd.copy()\n",
    "        \n",
    "    # ID beneficiarios\n",
    "    hh['id_ben']       = 0\n",
    "    hh['id_ben_rural'] = 0\n",
    "    hh['id_ben_urban'] = 0\n",
    "        \n",
    "    # Indetificar hogares con niños y adolescentes \n",
    "    hh['id_max_edad'] = np.where((hh.miembros_ci == 1) & (hh.edad_ci <= max_edad),1,0)\n",
    "    hh['id_max_edad'] = hh.groupby('idh_ch').id_max_edad.transform(max)\n",
    "        \n",
    "    # Identificar poblacion en pobreza y hogares con niños y adolescentes\n",
    "    if pob_grupo == 1:\n",
    "        hh_temp = hh.loc[(hh.poor_national   == 1) & (hh.id_max_edad == 1)]\n",
    "        hh_temp = hh_temp.sample(frac = 1).iterrows()\n",
    "    else: \n",
    "        hh_temp = hh.loc[(hh.poor_e_national == 1) & (hh.id_max_edad == 1)]\n",
    "        hh_temp = hh_temp.sample(frac = 1).iterrows()\n",
    "    \n",
    "    # Identificar beneficiarios y asignar monto\n",
    "    if pbenef_rural > 0:\n",
    "        nbenef_rural = nbenef * pbenef_rural\n",
    "        nbenef_urban = nbenef * (1 - pbenef_rural)\n",
    "    \n",
    "        # Seleccionar aleatoriamente a `n` individuos \n",
    "        iter_r = 0 \n",
    "        iter_u = 0\n",
    "        for i in hh_temp:\n",
    "            if i[1]['zona_c'] == 0:\n",
    "                if (iter_r +  i[1]['factor_ch']) <= nbenef_rural:\n",
    "                    iter_r += i[1]['factor_ch'] \n",
    "                    hh.loc[(hh.idh_ch == i[1]['idh_ch']) & (hh.idp_ci == i[1]['idp_ci']),'id_ben_rural'] = 1\n",
    "                if (iter_r +  i[1]['factor_ch']) >  nbenef_rural:\n",
    "                    break\n",
    "                \n",
    "            else: \n",
    "                if (iter_u +  i[1]['factor_ch']) <= nbenef_urban:\n",
    "                    iter_u += i[1]['factor_ch'] \n",
    "                    hh.loc[(hh.idh_ch == i[1]['idh_ch']) & (hh.idp_ci == i[1]['idp_ci']),'id_ben_urban'] = 1\n",
    "                if (iter_u +  i[1]['factor_ch']) >  nbenef_urban:\n",
    "                    break\n",
    "                \n",
    "        # Asignar transferencia\n",
    "        var_inc     = 'pc_ytot_ch_ofi_new'\n",
    "        hh[var_inc] = np.where(hh.id_ben_rural == 1, monto[0] / hh.nmiembros_ch, 0) + hh.pc_ytot_ch_ofi\n",
    "        hh[var_inc] = np.where(hh.id_ben_urban == 1, monto[1] / hh.nmiembros_ch, 0) + hh.pc_ytot_ch_ofi_new\n",
    "        \n",
    "        # Identificar numero de individuos en pobreza \n",
    "        if pob_grupo == 1:\n",
    "            var_pov     = 'poor_national_new'\n",
    "            hh[var_pov] = (hh[var_inc] < hh.lp_ci).astype(int)\n",
    "            hh.loc[hh.pc_ytot_ch_ofi.isna(),var_pov] = np.nan\n",
    "        else:\n",
    "            var_pov     = 'poor_e_national_new'\n",
    "            hh[var_pov] = (hh[var_inc] < hh.lpe_ci).astype(int)\n",
    "            hh.loc[hh.pc_ytot_ch_ofi.isna(),var_pov] = np.nan\n",
    "                    \n",
    "    else:\n",
    "        # Seleccionar aleatoriamente a `n` individuos \n",
    "        iter_ = 0 \n",
    "        for i in hh_temp:\n",
    "            if (iter_ +  i[1]['factor_ch']) <= nbenef:\n",
    "                iter_ += i[1]['factor_ch']\n",
    "                hh.loc[(hh.idh_ch == i[1]['idh_ch']) & (hh.idp_ci == i[1]['idp_ci']),'id_ben'] = 1\n",
    "            if (iter_ +  i[1]['factor_ch']) >  nbenef:\n",
    "                break  \n",
    "    \n",
    "        # Asignar transferencia\n",
    "        var_inc     = 'pc_ytot_ch_ofi_new'\n",
    "        hh[var_inc] = np.where(hh.id_ben == 1, monto[0] / hh.nmiembros_ch, 0) + hh.pc_ytot_ch_ofi\n",
    "    \n",
    "        # Identificar numero de individuos en pobreza\n",
    "        if pob_grupo == 1:\n",
    "            var_pov     = 'poor_national_new'\n",
    "            hh[var_pov] = (hh[var_inc] < hh.lp_ci).astype(int)\n",
    "            hh.loc[hh.pc_ytot_ch_ofi.isna(),var_pov] = np.nan\n",
    "        else:\n",
    "            var_pov     = 'poor_e_national_new'\n",
    "            hh[var_pov] = (hh[var_inc] < hh.lpe_ci).astype(int)\n",
    "            hh.loc[hh.pc_ytot_ch_ofi.isna(),var_pov] = np.nan\n",
    "    \n",
    "    return hh "
   ]
  },
  {
   "cell_type": "markdown",
   "id": "82e23253",
   "metadata": {},
   "source": [
    "### Resultados"
   ]
  },
  {
   "cell_type": "code",
   "execution_count": null,
   "id": "1d5859b9",
   "metadata": {},
   "outputs": [],
   "source": []
  }
 ],
 "metadata": {
  "kernelspec": {
   "display_name": "conda_python3",
   "language": "python",
   "name": "conda_python3"
  },
  "language_info": {
   "codemirror_mode": {
    "name": "ipython",
    "version": 3
   },
   "file_extension": ".py",
   "mimetype": "text/x-python",
   "name": "python",
   "nbconvert_exporter": "python",
   "pygments_lexer": "ipython3",
   "version": "3.6.13"
  }
 },
 "nbformat": 4,
 "nbformat_minor": 5
}
