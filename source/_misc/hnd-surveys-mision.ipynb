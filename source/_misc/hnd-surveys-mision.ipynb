{
 "cells": [
  {
   "cell_type": "markdown",
   "id": "89421d2b",
   "metadata": {},
   "source": [
    "## Programa Presidencial “Bono Vida Mejor\" en sus Dominios Rural y Urbano\n",
    "### Ejercicio de transferencias"
   ]
  },
  {
   "cell_type": "raw",
   "id": "7c6cb203",
   "metadata": {},
   "source": [
    "<script>\n",
    "  function code_toggle() {\n",
    "    if (code_shown){\n",
    "      $('div.input').hide('500');\n",
    "      $('#toggleButton').val('Show Code')\n",
    "    } else {\n",
    "      $('div.input').show('500');\n",
    "      $('#toggleButton').val('Hide Code')\n",
    "    }\n",
    "    code_shown = !code_shown\n",
    "  }\n",
    "\n",
    "  $( document ).ready(function(){\n",
    "    code_shown=false;\n",
    "    $('div.input').hide()\n",
    "  });\n",
    "</script>\n",
    "<form action=\"javascript:code_toggle()\"><input type=\"submit\" id=\"toggleButton\" value=\"Show Code\"></form>"
   ]
  },
  {
   "cell_type": "code",
   "execution_count": 1,
   "id": "cd018816",
   "metadata": {},
   "outputs": [],
   "source": [
    "# Libraries \n",
    "import os\n",
    "import random\n",
    "import numpy as np\n",
    "import pandas as pd\n",
    "from dotenv import load_dotenv"
   ]
  },
  {
   "cell_type": "code",
   "execution_count": 2,
   "id": "cfbe282d",
   "metadata": {},
   "outputs": [],
   "source": [
    "# Working directory\n",
    "load_dotenv('/home/ec2-user/SageMaker/.env')\n",
    "sclbucket = os.getenv('sclbucket')\n",
    "scldatalake = 's3://{0}'.format(sclbucket)"
   ]
  },
  {
   "cell_type": "code",
   "execution_count": 3,
   "id": "da935a72",
   "metadata": {},
   "outputs": [],
   "source": [
    "%%capture\n",
    "# Import data \n",
    "recurso = 'Household Socio-Economic Surveys/Harmonized Household Surveys/concat'\n",
    "file    = 'harmonized-latest-v3.csv'\n",
    "data    = pd.read_csv(f'{scldatalake}/{recurso}/{file}')"
   ]
  },
  {
   "cell_type": "code",
   "execution_count": 4,
   "id": "c385b005",
   "metadata": {},
   "outputs": [],
   "source": [
    "# Data Honduras\n",
    "data_hnd = data[data.pais_c == \"HND\"]"
   ]
  },
  {
   "cell_type": "markdown",
   "id": "efd6bfc7",
   "metadata": {},
   "source": [
    "### Pobreza nacional"
   ]
  },
  {
   "cell_type": "code",
   "execution_count": 5,
   "id": "eb68eac5",
   "metadata": {},
   "outputs": [
    {
     "name": "stdout",
     "output_type": "stream",
     "text": [
      "Pobreza nacional        : 63.03%\n",
      "Pobreza extrema nacional: 40.62%\n"
     ]
    }
   ],
   "source": [
    "# Pobreza nacional\n",
    "poor_national   = data_hnd.groupby(\"poor_national\").factor_ci.sum()  / data_hnd.groupby(\"poor_national\").factor_ci.sum().sum()\n",
    "poor_national   = poor_national[1]\n",
    "\n",
    "# Pobreza extrema nacional\n",
    "poor_e_national = data_hnd.groupby(\"poor_e_national\").factor_ci.sum() / data_hnd.groupby(\"poor_national\").factor_ci.sum().sum()\n",
    "poor_e_national = poor_e_national[1]\n",
    "\n",
    "# Results\n",
    "print(\"Pobreza nacional        : {:.2f}%\".format(poor_national  *100))\n",
    "print(\"Pobreza extrema nacional: {:.2f}%\".format(poor_e_national*100))"
   ]
  },
  {
   "cell_type": "markdown",
   "id": "ff5c0e23",
   "metadata": {},
   "source": [
    "### Simulador"
   ]
  },
  {
   "cell_type": "code",
   "execution_count": 27,
   "id": "bf3d27ec",
   "metadata": {},
   "outputs": [],
   "source": [
    "def simulacion(nbenef, pbenef_rural, monto, max_edad, pob_grupo = 1):\n",
    "    # Seed\n",
    "    random.seed(1)\n",
    "    \n",
    "    # Definir población elegible\n",
    "    # Copiar data\n",
    "    hh = data_hnd.copy()\n",
    "        \n",
    "    # ID beneficiarios\n",
    "    hh['id_ben']       = 0\n",
    "    hh['id_ben_rural'] = 0\n",
    "    hh['id_ben_urban'] = 0\n",
    "        \n",
    "    # Indetificar hogares con niños y adolescentes \n",
    "    hh['id_max_edad'] = np.where((hh.miembros_ci == 1) & (hh.edad_ci <= max_edad),1,0)\n",
    "    hh['id_max_edad'] = hh.groupby('idh_ch').id_max_edad.transform(max)\n",
    "        \n",
    "    # Identificar poblacion en pobreza y hogares con niños y adolescentes\n",
    "    if pob_grupo == 1:\n",
    "        hh_temp = hh.loc[(hh.poor_national   == 1) & (hh.id_max_edad == 1)]\n",
    "        hh_temp = hh_temp.sample(frac = 1).iterrows()\n",
    "    else: \n",
    "        hh_temp = hh.loc[(hh.poor_e_national == 1) & (hh.id_max_edad == 1)]\n",
    "        hh_temp = hh_temp.sample(frac = 1).iterrows()\n",
    "    \n",
    "    # Identificar beneficiarios y asignar monto\n",
    "    if pbenef_rural > 0:\n",
    "        nbenef_rural = nbenef * pbenef_rural\n",
    "        nbenef_urban = nbenef * (1 - pbenef_rural)\n",
    "    \n",
    "        # Seleccionar aleatoriamente a `n` individuos \n",
    "        iter_r = 0 \n",
    "        iter_u = 0\n",
    "        for i in hh_temp:\n",
    "            if i[1]['zona_c'] == 0:\n",
    "                if (iter_r +  i[1]['factor_ch']) <= nbenef_rural:\n",
    "                    iter_r += i[1]['factor_ch'] \n",
    "                    hh.loc[(hh.idh_ch == i[1]['idh_ch']) & (hh.idp_ci == i[1]['idp_ci']),'id_ben_rural'] = 1\n",
    "                if (iter_r +  i[1]['factor_ch']) >  nbenef_rural:\n",
    "                    break\n",
    "                \n",
    "            else: \n",
    "                if (iter_u +  i[1]['factor_ch']) <= nbenef_urban:\n",
    "                    iter_u += i[1]['factor_ch'] \n",
    "                    hh.loc[(hh.idh_ch == i[1]['idh_ch']) & (hh.idp_ci == i[1]['idp_ci']),'id_ben_urban'] = 1\n",
    "                if (iter_u +  i[1]['factor_ch']) >  nbenef_urban:\n",
    "                    break\n",
    "         \n",
    "        # Total beneficiarios \n",
    "        hh['id_ben'] = np.where((hh.id_ben_rural == 1) | (hh.id_ben_urban == 1),1,0)\n",
    "        \n",
    "        # Asignar transferencia\n",
    "        var_inc     = 'pc_ytot_ch_ofi_new'\n",
    "        hh[var_inc] = np.where(hh.id_ben_rural == 1, monto[0] / hh.nmiembros_ch, 0) + hh.pc_ytot_ch_ofi\n",
    "        hh[var_inc] = np.where(hh.id_ben_urban == 1, monto[1] / hh.nmiembros_ch, 0) + hh.pc_ytot_ch_ofi_new\n",
    "        \n",
    "        # Porcentjae del ingreso\n",
    "        var_per     = 'pc_ytot_ch_perc'\n",
    "        hh[var_per] = np.where(hh.id_ben_rural == 1, monto[0] / hh.pc_ytot_ch_ofi, np.nan)\n",
    "        hh[var_per] = np.where(hh.id_ben_urban == 1, monto[1] / hh.pc_ytot_ch_ofi, hh.pc_ytot_ch_perc)\n",
    "        \n",
    "        # Identificar numero de individuos en pobreza \n",
    "        if pob_grupo == 1:\n",
    "            var_pov     = 'poor_national_new'\n",
    "            hh[var_pov] = (hh[var_inc] < hh.lp_ci).astype(int)\n",
    "            hh.loc[hh.pc_ytot_ch_ofi.isna(),var_pov] = np.nan\n",
    "        else:\n",
    "            var_pov     = 'poor_e_national_new'\n",
    "            hh[var_pov] = (hh[var_inc] < hh.lpe_ci).astype(int)\n",
    "            hh.loc[hh.pc_ytot_ch_ofi.isna(),var_pov] = np.nan\n",
    "                    \n",
    "    else:\n",
    "        # Seleccionar aleatoriamente a `n` individuos \n",
    "        iter_ = 0 \n",
    "        for i in hh_temp:\n",
    "            if (iter_ +  i[1]['factor_ch']) <= nbenef:\n",
    "                iter_ += i[1]['factor_ch']\n",
    "                hh.loc[(hh.idh_ch == i[1]['idh_ch']) & (hh.idp_ci == i[1]['idp_ci']),'id_ben'] = 1\n",
    "            if (iter_ +  i[1]['factor_ch']) >  nbenef:\n",
    "                break  \n",
    "                \n",
    "        # Asignar transferencia\n",
    "        var_inc     = 'pc_ytot_ch_ofi_new'\n",
    "        hh[var_inc] = np.where(hh.id_ben == 1, monto[0] / hh.nmiembros_ch, 0) + hh.pc_ytot_ch_ofi\n",
    "        \n",
    "        # Porcentjae del ingreso\n",
    "        var_per     = 'pc_ytot_ch_perc'\n",
    "        hh[var_per] = np.where(hh.id_ben == 1, monto[0] / hh.pc_ytot_ch_ofi, np.nan)\n",
    "        \n",
    "        # Identificar numero de individuos en pobreza\n",
    "        if pob_grupo == 1:\n",
    "            var_pov     = 'poor_national_new'\n",
    "            hh[var_pov] = (hh[var_inc] < hh.lp_ci).astype(int)\n",
    "            hh.loc[hh.pc_ytot_ch_ofi.isna(),var_pov] = np.nan\n",
    "        else:\n",
    "            var_pov     = 'poor_e_national_new'\n",
    "            hh[var_pov] = (hh[var_inc] < hh.lpe_ci).astype(int)\n",
    "            hh.loc[hh.pc_ytot_ch_ofi.isna(),var_pov] = np.nan\n",
    "    \n",
    "    return hh "
   ]
  },
  {
   "cell_type": "code",
   "execution_count": null,
   "id": "a96ae125",
   "metadata": {},
   "outputs": [],
   "source": [
    "data_hnd[]"
   ]
  },
  {
   "cell_type": "code",
   "execution_count": 198,
   "id": "1839b8a5",
   "metadata": {},
   "outputs": [
    {
     "data": {
      "text/plain": [
       "poor_national\n",
       "0.0    0.369657\n",
       "1.0    0.630343\n",
       "Name: factor_ci, dtype: float64"
      ]
     },
     "execution_count": 198,
     "metadata": {},
     "output_type": "execute_result"
    }
   ],
   "source": [
    "hh.groupby(\"poor_national\").factor_ci.sum()  / hh.groupby(\"poor_national\").factor_ci.sum().sum()"
   ]
  },
  {
   "cell_type": "code",
   "execution_count": 199,
   "id": "9757891d",
   "metadata": {},
   "outputs": [],
   "source": [
    "result = simulacion(0, 0, [0], 100, 1)"
   ]
  },
  {
   "cell_type": "code",
   "execution_count": 200,
   "id": "6b874462",
   "metadata": {},
   "outputs": [
    {
     "data": {
      "text/plain": [
       "poor_national_new\n",
       "0.0    0.369657\n",
       "1.0    0.630343\n",
       "Name: factor_ci, dtype: float64"
      ]
     },
     "execution_count": 200,
     "metadata": {},
     "output_type": "execute_result"
    }
   ],
   "source": [
    "result.groupby(\"poor_national_new\").factor_ci.sum()  / result.groupby(\"poor_national_new\").factor_ci.sum().sum()"
   ]
  },
  {
   "cell_type": "code",
   "execution_count": 219,
   "id": "c47f7ae5",
   "metadata": {},
   "outputs": [],
   "source": [
    "result = simulacion(350000, 0.5, [335,200], 16, 1)"
   ]
  },
  {
   "cell_type": "code",
   "execution_count": 218,
   "id": "2fbe6d25",
   "metadata": {},
   "outputs": [
    {
     "data": {
      "text/plain": [
       "poor_national_new\n",
       "0.0    0.375331\n",
       "1.0    0.624669\n",
       "Name: factor_ci, dtype: float64"
      ]
     },
     "execution_count": 218,
     "metadata": {},
     "output_type": "execute_result"
    }
   ],
   "source": [
    "result.groupby(\"poor_national_new\").factor_ci.sum()  / result.groupby(\"poor_national_new\").factor_ci.sum().sum()"
   ]
  },
  {
   "cell_type": "markdown",
   "id": "e54f8721",
   "metadata": {},
   "source": [
    "### Resultados"
   ]
  },
  {
   "cell_type": "code",
   "execution_count": 24,
   "id": "b4bd1950",
   "metadata": {},
   "outputs": [],
   "source": [
    "import ipywidgets as widgets"
   ]
  },
  {
   "cell_type": "code",
   "execution_count": 28,
   "id": "8f309422",
   "metadata": {},
   "outputs": [],
   "source": [
    "result = simulacion(350000, 0.5, [335,200], 16, 1)"
   ]
  },
  {
   "cell_type": "code",
   "execution_count": 29,
   "id": "90958ca9",
   "metadata": {},
   "outputs": [
    {
     "data": {
      "text/plain": [
       "poor_national_new\n",
       "0.0    0.375331\n",
       "1.0    0.624669\n",
       "Name: factor_ci, dtype: float64"
      ]
     },
     "execution_count": 29,
     "metadata": {},
     "output_type": "execute_result"
    }
   ],
   "source": [
    "result.groupby(\"poor_national_new\").factor_ci.sum()  / result.groupby(\"poor_national_new\").factor_ci.sum().sum()"
   ]
  }
 ],
 "metadata": {
  "kernelspec": {
   "display_name": "conda_python3",
   "language": "python",
   "name": "conda_python3"
  },
  "language_info": {
   "codemirror_mode": {
    "name": "ipython",
    "version": 3
   },
   "file_extension": ".py",
   "mimetype": "text/x-python",
   "name": "python",
   "nbconvert_exporter": "python",
   "pygments_lexer": "ipython3",
   "version": "3.6.13"
  }
 },
 "nbformat": 4,
 "nbformat_minor": 5
}
