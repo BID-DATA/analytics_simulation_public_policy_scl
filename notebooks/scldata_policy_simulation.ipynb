{
 "cells": [
  {
   "cell_type": "markdown",
   "id": "e30152f8",
   "metadata": {},
   "source": [
    "# Rising Food Prices and Poverty in Latin America and the Caribbean:\n",
    "## Effect of Ukrainian invasion\n",
    "\n",
    "_Lina Arias, Laura Goyeneche; Roberto Sanchez; Luis Tejerina; Eric Torres_"
   ]
  },
  {
   "cell_type": "code",
   "execution_count": 1,
   "id": "2364ece8",
   "metadata": {},
   "outputs": [],
   "source": [
    "%%capture\n",
    "%matplotlib inline\n",
    "from scldata_simulation import * "
   ]
  },
  {
   "cell_type": "code",
   "execution_count": 2,
   "id": "4b2edcb4",
   "metadata": {},
   "outputs": [
    {
     "name": "stderr",
     "output_type": "stream",
     "text": [
      "/home/ec2-user/anaconda3/envs/python3/lib/python3.6/site-packages/IPython/core/interactiveshell.py:3343: DtypeWarning: Columns (7,8) have mixed types.Specify dtype option on import or set low_memory=False.\n",
      "  exec(code_obj, self.user_global_ns, self.user_ns)\n"
     ]
    }
   ],
   "source": [
    "# Instantiate simulator \n",
    "scldata_simulation = SCLdataSimulation()"
   ]
  },
  {
   "cell_type": "code",
   "execution_count": 10,
   "id": "27186441",
   "metadata": {},
   "outputs": [],
   "source": [
    "# price shock components \n",
    "# - You can choose which components are affected by exogenous impact \n",
    "shock_component = ['Alimentos fuera del hogar',\n",
    "                   'Azúcares', 'Bebidas no alcohólicas',\n",
    "                   'Carnes, aves y huevos',\n",
    "                   'Frutas', \n",
    "                   'Granos',\n",
    "                   'Panes y\\ncereales',\n",
    "                   'Grasas', \n",
    "                   'Leguminosas',\n",
    "                   'Lácteos', \n",
    "                   'Productos no especificados previamente',\n",
    "                   'Raíces y\\ntubérculos', 'Vegetales'\n",
    "                  ]\n",
    "\n",
    "# shock_weight\n",
    "# - pct impact of exogenous impact\n",
    "shock_weight = 0.20\n",
    "\n",
    "# population affected - shock_weight\n",
    "# - specify whether the impact is focused on a subgroup of the population\n",
    "# self-employed or independent workers in the agricultural sector will not be impacted by the Shock\n",
    "shock_population = {'sec_agri': 0}\n",
    "\n",
    "# income_growth \n",
    "# - Control by GDP growth\n",
    "#gdp_growth = 0.024"
   ]
  },
  {
   "cell_type": "code",
   "execution_count": 6,
   "id": "5266c82b",
   "metadata": {},
   "outputs": [
    {
     "data": {
      "text/html": [
       "<div>\n",
       "<style scoped>\n",
       "    .dataframe tbody tr th:only-of-type {\n",
       "        vertical-align: middle;\n",
       "    }\n",
       "\n",
       "    .dataframe tbody tr th {\n",
       "        vertical-align: top;\n",
       "    }\n",
       "\n",
       "    .dataframe thead th {\n",
       "        text-align: right;\n",
       "    }\n",
       "</style>\n",
       "<table border=\"1\" class=\"dataframe\">\n",
       "  <thead>\n",
       "    <tr style=\"text-align: right;\">\n",
       "      <th></th>\n",
       "      <th>pais_c</th>\n",
       "      <th>population</th>\n",
       "      <th>poor_int_pop</th>\n",
       "      <th>poor_int_delta_pop</th>\n",
       "      <th>poor31_int_pop</th>\n",
       "      <th>poor31_int_delta_pop</th>\n",
       "      <th>poor_national_pop</th>\n",
       "      <th>poor_national_delta_pop</th>\n",
       "      <th>poor_e_national_pop</th>\n",
       "      <th>poor_e_national_delta_pop</th>\n",
       "      <th>poor_national_new_recovery</th>\n",
       "      <th>poor_e_national_new_recovery</th>\n",
       "      <th>poor_int</th>\n",
       "      <th>poor_int_delta</th>\n",
       "      <th>poor31_int</th>\n",
       "      <th>poor31_int_delta</th>\n",
       "      <th>poor_national</th>\n",
       "      <th>poor_national_delta</th>\n",
       "      <th>poor_e_national</th>\n",
       "      <th>poor_e_national_delta</th>\n",
       "    </tr>\n",
       "  </thead>\n",
       "  <tbody>\n",
       "    <tr>\n",
       "      <th>0</th>\n",
       "      <td>LAC</td>\n",
       "      <td>594945580.312</td>\n",
       "      <td>205626280.663</td>\n",
       "      <td>198975501.635</td>\n",
       "      <td>117770812.590</td>\n",
       "      <td>111155281.743</td>\n",
       "      <td>211221653.122</td>\n",
       "      <td>223382475.468</td>\n",
       "      <td>73136580.752</td>\n",
       "      <td>87230344.374</td>\n",
       "      <td>198302474.633</td>\n",
       "      <td>297735368.452</td>\n",
       "      <td>0.357</td>\n",
       "      <td>0.345</td>\n",
       "      <td>0.204</td>\n",
       "      <td>0.193</td>\n",
       "      <td>0.366</td>\n",
       "      <td>0.387</td>\n",
       "      <td>0.127</td>\n",
       "      <td>0.151</td>\n",
       "    </tr>\n",
       "  </tbody>\n",
       "</table>\n",
       "</div>"
      ],
      "text/plain": [
       "  pais_c    population  poor_int_pop  poor_int_delta_pop  poor31_int_pop  \\\n",
       "0    LAC 594945580.312 205626280.663       198975501.635   117770812.590   \n",
       "\n",
       "   poor31_int_delta_pop  poor_national_pop  poor_national_delta_pop  \\\n",
       "0         111155281.743      211221653.122            223382475.468   \n",
       "\n",
       "   poor_e_national_pop  poor_e_national_delta_pop  poor_national_new_recovery  \\\n",
       "0         73136580.752               87230344.374               198302474.633   \n",
       "\n",
       "   poor_e_national_new_recovery  poor_int  poor_int_delta  poor31_int  \\\n",
       "0                 297735368.452     0.357           0.345       0.204   \n",
       "\n",
       "   poor31_int_delta  poor_national  poor_national_delta  poor_e_national  \\\n",
       "0             0.193          0.366                0.387            0.127   \n",
       "\n",
       "   poor_e_national_delta  \n",
       "0                  0.151  "
      ]
     },
     "execution_count": 6,
     "metadata": {},
     "output_type": "execute_result"
    }
   ],
   "source": [
    "shock_component = ['Alimentos fuera del hogar',\n",
    "                   'Azúcares', 'Bebidas no alcohólicas',\n",
    "                   'Carnes, aves y huevos',\n",
    "                   'Frutas', \n",
    "                   'Granos',\n",
    "                   'Panes y\\ncereales',\n",
    "                   'Grasas', \n",
    "                   'Leguminosas',\n",
    "                   'Lácteos', \n",
    "                   'Productos no especificados previamente',\n",
    "                   'Raíces y\\ntubérculos', 'Vegetales'\n",
    "                  ]\n",
    "\n",
    "change_A = scldata_simulation.simulate_shock(shock_component, shock_weight, shock_population, gdp_growth_population='', year='2022')\n",
    "scldata_simulation.region_results(change_A)"
   ]
  },
  {
   "cell_type": "code",
   "execution_count": 11,
   "id": "510999b8",
   "metadata": {},
   "outputs": [
    {
     "data": {
      "text/html": [
       "<div>\n",
       "<style scoped>\n",
       "    .dataframe tbody tr th:only-of-type {\n",
       "        vertical-align: middle;\n",
       "    }\n",
       "\n",
       "    .dataframe tbody tr th {\n",
       "        vertical-align: top;\n",
       "    }\n",
       "\n",
       "    .dataframe thead th {\n",
       "        text-align: right;\n",
       "    }\n",
       "</style>\n",
       "<table border=\"1\" class=\"dataframe\">\n",
       "  <thead>\n",
       "    <tr style=\"text-align: right;\">\n",
       "      <th></th>\n",
       "      <th>pais_c</th>\n",
       "      <th>population</th>\n",
       "      <th>poor_int_pop</th>\n",
       "      <th>poor_int_delta_pop</th>\n",
       "      <th>poor31_int_pop</th>\n",
       "      <th>poor31_int_delta_pop</th>\n",
       "      <th>poor_national_pop</th>\n",
       "      <th>poor_national_delta_pop</th>\n",
       "      <th>poor_e_national_pop</th>\n",
       "      <th>poor_e_national_delta_pop</th>\n",
       "      <th>poor_national_new_recovery</th>\n",
       "      <th>poor_e_national_new_recovery</th>\n",
       "      <th>poor_int</th>\n",
       "      <th>poor_int_delta</th>\n",
       "      <th>poor31_int</th>\n",
       "      <th>poor31_int_delta</th>\n",
       "      <th>poor_national</th>\n",
       "      <th>poor_national_delta</th>\n",
       "      <th>poor_e_national</th>\n",
       "      <th>poor_e_national_delta</th>\n",
       "    </tr>\n",
       "  </thead>\n",
       "  <tbody>\n",
       "    <tr>\n",
       "      <th>0</th>\n",
       "      <td>LAC</td>\n",
       "      <td>594945580.312</td>\n",
       "      <td>197905299.006</td>\n",
       "      <td>198710494.846</td>\n",
       "      <td>110203783.417</td>\n",
       "      <td>110866575.127</td>\n",
       "      <td>211221653.122</td>\n",
       "      <td>219342679.124</td>\n",
       "      <td>73136580.752</td>\n",
       "      <td>83393773.987</td>\n",
       "      <td>109632005.453</td>\n",
       "      <td>178443682.030</td>\n",
       "      <td>0.343</td>\n",
       "      <td>0.345</td>\n",
       "      <td>0.191</td>\n",
       "      <td>0.192</td>\n",
       "      <td>0.366</td>\n",
       "      <td>0.380</td>\n",
       "      <td>0.127</td>\n",
       "      <td>0.144</td>\n",
       "    </tr>\n",
       "  </tbody>\n",
       "</table>\n",
       "</div>"
      ],
      "text/plain": [
       "  pais_c    population  poor_int_pop  poor_int_delta_pop  poor31_int_pop  \\\n",
       "0    LAC 594945580.312 197905299.006       198710494.846   110203783.417   \n",
       "\n",
       "   poor31_int_delta_pop  poor_national_pop  poor_national_delta_pop  \\\n",
       "0         110866575.127      211221653.122            219342679.124   \n",
       "\n",
       "   poor_e_national_pop  poor_e_national_delta_pop  poor_national_new_recovery  \\\n",
       "0         73136580.752               83393773.987               109632005.453   \n",
       "\n",
       "   poor_e_national_new_recovery  poor_int  poor_int_delta  poor31_int  \\\n",
       "0                 178443682.030     0.343           0.345       0.191   \n",
       "\n",
       "   poor31_int_delta  poor_national  poor_national_delta  poor_e_national  \\\n",
       "0             0.192          0.366                0.380            0.127   \n",
       "\n",
       "   poor_e_national_delta  \n",
       "0                  0.144  "
      ]
     },
     "execution_count": 11,
     "metadata": {},
     "output_type": "execute_result"
    }
   ],
   "source": [
    "shock_component = ['Alimentos fuera del hogar',\n",
    "                   'Azúcares', 'Bebidas no alcohólicas',\n",
    "                   'Frutas', \n",
    "                   'Granos',\n",
    "                   'Panes y\\ncereales',\n",
    "                   'Grasas', \n",
    "                   'Leguminosas',\n",
    "                   'Lácteos', \n",
    "                   'Productos no especificados previamente',\n",
    "                   'Raíces y\\ntubérculos', 'Vegetales']\n",
    "\n",
    "change_B = scldata_simulation.simulate_shock(shock_component, shock_weight, shock_population, gdp_growth_population='', year='2022')\n",
    "scldata_simulation.region_results(change_B)"
   ]
  },
  {
   "cell_type": "code",
   "execution_count": 12,
   "id": "726f30cc",
   "metadata": {},
   "outputs": [
    {
     "data": {
      "text/html": [
       "<div>\n",
       "<style scoped>\n",
       "    .dataframe tbody tr th:only-of-type {\n",
       "        vertical-align: middle;\n",
       "    }\n",
       "\n",
       "    .dataframe tbody tr th {\n",
       "        vertical-align: top;\n",
       "    }\n",
       "\n",
       "    .dataframe thead th {\n",
       "        text-align: right;\n",
       "    }\n",
       "</style>\n",
       "<table border=\"1\" class=\"dataframe\">\n",
       "  <thead>\n",
       "    <tr style=\"text-align: right;\">\n",
       "      <th></th>\n",
       "      <th>pais_c</th>\n",
       "      <th>weight</th>\n",
       "    </tr>\n",
       "  </thead>\n",
       "  <tbody>\n",
       "    <tr>\n",
       "      <th>0</th>\n",
       "      <td>ARG</td>\n",
       "      <td>0.670</td>\n",
       "    </tr>\n",
       "    <tr>\n",
       "      <th>33</th>\n",
       "      <td>BHS</td>\n",
       "      <td>0.815</td>\n",
       "    </tr>\n",
       "  </tbody>\n",
       "</table>\n",
       "</div>"
      ],
      "text/plain": [
       "   pais_c  weight\n",
       "0     ARG   0.670\n",
       "33    BHS   0.815"
      ]
     },
     "execution_count": 12,
     "metadata": {},
     "output_type": "execute_result"
    }
   ],
   "source": [
    "# Get the weight of the shock component by country\n",
    "scldata_simulation.get_poverty_lines(shock_component)[['pais_c', 'weight']].drop_duplicates().head(2)"
   ]
  },
  {
   "cell_type": "code",
   "execution_count": 51,
   "id": "90c795bd",
   "metadata": {},
   "outputs": [
    {
     "data": {
      "text/html": [
       "<div>\n",
       "<style scoped>\n",
       "    .dataframe tbody tr th:only-of-type {\n",
       "        vertical-align: middle;\n",
       "    }\n",
       "\n",
       "    .dataframe tbody tr th {\n",
       "        vertical-align: top;\n",
       "    }\n",
       "\n",
       "    .dataframe thead th {\n",
       "        text-align: right;\n",
       "    }\n",
       "</style>\n",
       "<table border=\"1\" class=\"dataframe\">\n",
       "  <thead>\n",
       "    <tr style=\"text-align: right;\">\n",
       "      <th></th>\n",
       "      <th>pais_c</th>\n",
       "      <th>gdp_change</th>\n",
       "    </tr>\n",
       "  </thead>\n",
       "  <tbody>\n",
       "    <tr>\n",
       "      <th>17</th>\n",
       "      <td>GUY</td>\n",
       "      <td>0.487</td>\n",
       "    </tr>\n",
       "    <tr>\n",
       "      <th>27</th>\n",
       "      <td>LCA</td>\n",
       "      <td>0.131</td>\n",
       "    </tr>\n",
       "    <tr>\n",
       "      <th>26</th>\n",
       "      <td>KNA</td>\n",
       "      <td>0.100</td>\n",
       "    </tr>\n",
       "    <tr>\n",
       "      <th>4</th>\n",
       "      <td>BRB</td>\n",
       "      <td>0.085</td>\n",
       "    </tr>\n",
       "    <tr>\n",
       "      <th>28</th>\n",
       "      <td>VCT</td>\n",
       "      <td>0.083</td>\n",
       "    </tr>\n",
       "  </tbody>\n",
       "</table>\n",
       "</div>"
      ],
      "text/plain": [
       "   pais_c  gdp_change\n",
       "17    GUY       0.487\n",
       "27    LCA       0.131\n",
       "26    KNA       0.100\n",
       "4     BRB       0.085\n",
       "28    VCT       0.083"
      ]
     },
     "execution_count": 51,
     "metadata": {},
     "output_type": "execute_result"
    }
   ],
   "source": [
    "# Get the growth by country\n",
    "scldata_simulation.get_gdp_growth(year='2022').sort_values('gdp_change', ascending=False).head(5)"
   ]
  },
  {
   "cell_type": "code",
   "execution_count": 52,
   "id": "bbe2d36c",
   "metadata": {},
   "outputs": [],
   "source": [
    "change = scldata_simulation.simulate_shock(shock_component, shock_weight, shock_population, gdp_growth_population='', year='2022')"
   ]
  },
  {
   "cell_type": "markdown",
   "id": "5f074f6a",
   "metadata": {},
   "source": [
    "## Deltas by Country"
   ]
  },
  {
   "cell_type": "code",
   "execution_count": 32,
   "id": "b0a8f4b7",
   "metadata": {},
   "outputs": [],
   "source": [
    "country_group = scldata_simulation.country_results(change)\n",
    "#country_group[['anio_c', 'pais_c', 'poor_int', 'poor_int_delta', 'poor31_int',\n",
    "#       'poor31_int_delta', 'poor_national', 'poor_national_delta',\n",
    "#       'poor_e_national','poor_e_national', 'poor_e_national_delta']]"
   ]
  },
  {
   "cell_type": "code",
   "execution_count": 33,
   "id": "c27b07b6",
   "metadata": {},
   "outputs": [
    {
     "data": {
      "text/plain": [
       "<Figure size 1200x800 with 0 Axes>"
      ]
     },
     "metadata": {},
     "output_type": "display_data"
    },
    {
     "data": {
      "image/png": "[encoded data removed]",
      "text/plain": [
       "<Figure size 1584x360 with 2 Axes>"
      ]
     },
     "metadata": {
      "needs_background": "light"
     },
     "output_type": "display_data"
    }
   ],
   "source": [
    "fig=plt.figure(figsize=(12,8), dpi= 100, facecolor='w', edgecolor='k')\n",
    "variables = ['poor_national', 'poor_e_national']\n",
    "for variable in variables:\n",
    "    country_group[variable +'_diff'] = (country_group[variable + '_delta'] - country_group[variable])*100  \n",
    "variables = [x + '_diff' for x in variables]\n",
    "variables.extend(['anio_c', 'pais_c'])\n",
    "country_group_melt = pd.melt(country_group[variables],id_vars=['anio_c', 'pais_c'],var_name='metrics', value_name='values')\n",
    "\n",
    "country_group_melt['color'] = np.where(country_group_melt['metrics']=='poor_national_diff', 'grey', 'red')\n",
    "\n",
    "# Figure by poverty level \n",
    "plt.figure(figsize = (22,5))\n",
    "\n",
    "for i,variable in enumerate(['poor_national_diff', 'poor_e_national_diff']):\n",
    "    ordered_df = country_group_melt[country_group_melt.metrics==variable]\n",
    "    ordered_df = ordered_df.sort_values(by=['values'], ascending=False)\n",
    "    # Subplot\n",
    "    plt.subplot(1,3,i+1)\n",
    "    my_range=range(1,len(ordered_df.index)+1)\n",
    "    plt.hlines(y = my_range, xmin=0, \n",
    "               xmax = ordered_df['values'], \n",
    "               color ='grey', alpha=0.4)\n",
    "    plt.scatter(ordered_df['values'], my_range, color=ordered_df.color, alpha=1) \n",
    "    plt.yticks(my_range, ordered_df['pais_c'])\n",
    "    plt.title(\"Percentage points change in {0}\".format(variable), loc='left')\n",
    "    plt.xlabel('Change')\n",
    "    plt.ylabel('Country')\n",
    "    plt.yticks(rotation = 25)\n",
    "    \n",
    "plt.show()"
   ]
  },
  {
   "cell_type": "markdown",
   "id": "f49fec4c",
   "metadata": {},
   "source": [
    "### By country (population)"
   ]
  },
  {
   "cell_type": "raw",
   "id": "256fc5ef",
   "metadata": {},
   "source": [
    "change = (change.assign(lp_delta = change['lp_ci_delta'] - change['lp_ci'] ,\n",
    "                       poor_national_plus = np.where((change['poor_national']==0) & (change['poor_national_delta']==1), change['factor_ch'], None),\n",
    "                       poor_e_national_plus = np.where((change['poor_e_national']==0) & (change['poor_e_national_delta']==1), change['factor_ch'], None),\n",
    "                       #poor_national_plus_money=lambda x: (x['poor_national_gap'] * x['factor_ch'])\n",
    "                       ))"
   ]
  },
  {
   "cell_type": "raw",
   "id": "7e860954",
   "metadata": {},
   "source": [
    "#change.groupby(['pais_c']).agg({'lp_delta':sum,\n",
    "#                                'poor_national_plus_money': sum,\n",
    "#                                'poor_national_gap': max                                \n",
    "#                               }).reset_index().head()"
   ]
  },
  {
   "cell_type": "markdown",
   "id": "be77d963",
   "metadata": {},
   "source": [
    "## Deltas by Group"
   ]
  },
  {
   "cell_type": "code",
   "execution_count": 13,
   "id": "de50f3c8",
   "metadata": {},
   "outputs": [
    {
     "data": {
      "text/html": [
       "<div>\n",
       "<style scoped>\n",
       "    .dataframe tbody tr th:only-of-type {\n",
       "        vertical-align: middle;\n",
       "    }\n",
       "\n",
       "    .dataframe tbody tr th {\n",
       "        vertical-align: top;\n",
       "    }\n",
       "\n",
       "    .dataframe thead th {\n",
       "        text-align: right;\n",
       "    }\n",
       "</style>\n",
       "<table border=\"1\" class=\"dataframe\">\n",
       "  <thead>\n",
       "    <tr style=\"text-align: right;\">\n",
       "      <th></th>\n",
       "      <th>sec_agri</th>\n",
       "      <th>poor_int_pop</th>\n",
       "      <th>poor_int_delta_pop</th>\n",
       "      <th>poor31_int_pop</th>\n",
       "      <th>poor31_int_delta_pop</th>\n",
       "      <th>poor_national_pop</th>\n",
       "      <th>poor_national_delta_pop</th>\n",
       "      <th>poor_e_national_pop</th>\n",
       "      <th>poor_e_national_delta_pop</th>\n",
       "      <th>population</th>\n",
       "      <th>poor_int</th>\n",
       "      <th>poor_int_delta</th>\n",
       "      <th>poor31_int</th>\n",
       "      <th>poor31_int_delta</th>\n",
       "      <th>poor_national</th>\n",
       "      <th>poor_national_delta</th>\n",
       "      <th>poor_e_national</th>\n",
       "      <th>poor_e_national_delta</th>\n",
       "    </tr>\n",
       "  </thead>\n",
       "  <tbody>\n",
       "    <tr>\n",
       "      <th>0</th>\n",
       "      <td>0</td>\n",
       "      <td>171320397.661</td>\n",
       "      <td>206383629.242</td>\n",
       "      <td>93678758.118</td>\n",
       "      <td>116462584.330</td>\n",
       "      <td>201788492.258</td>\n",
       "      <td>201570440.977</td>\n",
       "      <td>68452478.430</td>\n",
       "      <td>70819241.345</td>\n",
       "      <td>575908734.046</td>\n",
       "      <td>0.307</td>\n",
       "      <td>0.370</td>\n",
       "      <td>0.168</td>\n",
       "      <td>0.209</td>\n",
       "      <td>0.361</td>\n",
       "      <td>0.361</td>\n",
       "      <td>0.122</td>\n",
       "      <td>0.127</td>\n",
       "    </tr>\n",
       "    <tr>\n",
       "      <th>1</th>\n",
       "      <td>1</td>\n",
       "      <td>10056801.700</td>\n",
       "      <td>9820149.849</td>\n",
       "      <td>6449854.733</td>\n",
       "      <td>6184536.364</td>\n",
       "      <td>9433160.864</td>\n",
       "      <td>9127741.665</td>\n",
       "      <td>4684102.323</td>\n",
       "      <td>4479173.123</td>\n",
       "      <td>19036846.266</td>\n",
       "      <td>0.534</td>\n",
       "      <td>0.521</td>\n",
       "      <td>0.342</td>\n",
       "      <td>0.328</td>\n",
       "      <td>0.498</td>\n",
       "      <td>0.482</td>\n",
       "      <td>0.247</td>\n",
       "      <td>0.237</td>\n",
       "    </tr>\n",
       "  </tbody>\n",
       "</table>\n",
       "</div>"
      ],
      "text/plain": [
       "   sec_agri  poor_int_pop  poor_int_delta_pop  poor31_int_pop  \\\n",
       "0         0 171320397.661       206383629.242    93678758.118   \n",
       "1         1  10056801.700         9820149.849     6449854.733   \n",
       "\n",
       "   poor31_int_delta_pop  poor_national_pop  poor_national_delta_pop  \\\n",
       "0         116462584.330      201788492.258            201570440.977   \n",
       "1           6184536.364        9433160.864              9127741.665   \n",
       "\n",
       "   poor_e_national_pop  poor_e_national_delta_pop    population  poor_int  \\\n",
       "0         68452478.430               70819241.345 575908734.046     0.307   \n",
       "1          4684102.323                4479173.123  19036846.266     0.534   \n",
       "\n",
       "   poor_int_delta  poor31_int  poor31_int_delta  poor_national  \\\n",
       "0           0.370       0.168             0.209          0.361   \n",
       "1           0.521       0.342             0.328          0.498   \n",
       "\n",
       "   poor_national_delta  poor_e_national  poor_e_national_delta  \n",
       "0                0.361            0.122                  0.127  \n",
       "1                0.482            0.247                  0.237  "
      ]
     },
     "execution_count": 13,
     "metadata": {},
     "output_type": "execute_result"
    }
   ],
   "source": [
    "group = ['sec_agri']\n",
    "group_delta = scldata_simulation.population_segmentation_results(tasas=change, categories= group)\n",
    "group_delta"
   ]
  },
  {
   "cell_type": "raw",
   "id": "ad24937f",
   "metadata": {},
   "source": [
    "color_labels = group_melt[group[-1]].unique()\n",
    "rgb_values = sns.color_palette(\"Set2\", len(color_labels))\n",
    "color_map = dict(zip(color_labels, rgb_values))\n",
    "\n",
    "fig=plt.figure(figsize=(30,8), dpi= 100, facecolor='w', edgecolor='k')\n",
    "plt.figure(figsize = (22,5))\n",
    "for i,variable in enumerate(['poor_national_diff', 'poor_e_national_diff']):\n",
    "    ordered_df = group_melt[group_melt.metrics==variable]\n",
    "    ordered_df = ordered_df.sort_values(by=[ 'values'], ascending=False)\n",
    "    plt.subplot(1,3,i+1)\n",
    "    my_range=ordered_df[group]\n",
    "    if len(group)>1:\n",
    "        my_range=range(1,len(ordered_df.index)+1)\n",
    "    \n",
    "    plt.hlines(y=my_range,\n",
    "               xmin=0,\n",
    "               xmax=ordered_df['values'],\n",
    "               color=ordered_df[group[-1]].map(color_map),\n",
    "               alpha=0.4)\n",
    "    plt.scatter(ordered_df['values'], \n",
    "                my_range,\n",
    "                c=ordered_df[group[-1]].map(color_map), \n",
    "                alpha=1) \n",
    "    plt.title(\"Percentage points change in {0}\".format(variable), loc='left')\n",
    "    plt.xlabel('Change')\n",
    "    plt.ylabel(group[-1])\n",
    "    plt.yticks(rotation = 45)\n",
    "plt.show()"
   ]
  },
  {
   "cell_type": "raw",
   "id": "bd9561ca",
   "metadata": {},
   "source": [
    "ordered_df\n",
    "my_range=range(1,len(ordered_df.index)+1)\n",
    "plt.hlines(y=ordered_df[group],\n",
    "           xmin=0,\n",
    "           xmax=ordered_df['values'],\n",
    "           \n",
    "           alpha=0.4)\n",
    "plt.scatter(ordered_df['values'], \n",
    "            ordered_df[group],\n",
    "            c=ordered_df[group[-1]].map(color_map),  alpha=1) \n",
    "#plt.yticks(my_range, ordered_df['pais_c'])\n",
    "plt.title(\"Percentage points change in {0}\".format(variable), loc='left')\n",
    "plt.xlabel('Change')\n",
    "plt.ylabel(group[-1])\n",
    "plt.yticks(rotation = 45)\n",
    "plt.show()"
   ]
  },
  {
   "cell_type": "raw",
   "id": "62b5bb84",
   "metadata": {},
   "source": [
    "group[-1]"
   ]
  },
  {
   "cell_type": "markdown",
   "id": "9c8a8adb",
   "metadata": {},
   "source": [
    "#### Distribution of poverty rate changes in percentual points by country"
   ]
  },
  {
   "cell_type": "raw",
   "id": "aaf342a3",
   "metadata": {},
   "source": [
    "Simulate impacts using a vector of scenarios to evaluate distributions."
   ]
  },
  {
   "cell_type": "code",
   "execution_count": 14,
   "id": "3c2ea220",
   "metadata": {},
   "outputs": [],
   "source": [
    "shock_component = ['Granos',\n",
    "                   'Panes y\\ncereales']\n",
    "\n",
    "shock_weights = [i/100 for i in range(0,60,10) ]\n",
    "simulations_concat = scldata_simulation.simulate_changes(shock_component, shock_weights, shock_population, gdp_growth_population='', year='2022')\n",
    "simulations_concat['shock_component'] = ''.join(shock_component)\n",
    "simulations_concat.to_csv('../data/simulations_concat.csv', index=False)"
   ]
  },
  {
   "cell_type": "code",
   "execution_count": 15,
   "id": "9eeeab71",
   "metadata": {},
   "outputs": [],
   "source": [
    "shock_component = ['Granos']\n",
    "shock_weights = [i/100 for i in range(0,60,10) ]\n",
    "simulations_concat = scldata_simulation.simulate_changes(shock_component, shock_weights, shock_population, gdp_growth_population='', year='2022')\n",
    "simulations_concat['shock_component'] = ''.join(shock_component)\n",
    "simulations_concat.to_csv('../data/simulations_concat_Granos.csv', index=False)"
   ]
  },
  {
   "cell_type": "code",
   "execution_count": 36,
   "id": "b8e1fbd3",
   "metadata": {},
   "outputs": [],
   "source": [
    "shock_component = ['Alimentos fuera del hogar',\n",
    "                   'Bebidas no alcohólicas',\n",
    "                   'Frutas', \n",
    "                   'Granos',\n",
    "                   'Panes y\\ncereales',\n",
    "                   'Grasas', \n",
    "                   'Leguminosas',\n",
    "                   'Lácteos', \n",
    "                   'Productos no especificados previamente',\n",
    "                   'Raíces y\\ntubérculos', 'Vegetales'\n",
    "                  ]\n",
    "shock_weights = [i/100 for i in range(0,60,10) ]\n",
    "simulations_concat = scldata_simulation.simulate_changes(shock_component, shock_weights, shock_population, gdp_growth_population='', year='2022')\n",
    "simulations_concat['shock_component'] = ''.join(shock_component)\n",
    "simulations_concat.to_csv('../data/simulations_concat_all_no_meat.csv', index=False)"
   ]
  },
  {
   "cell_type": "code",
   "execution_count": 37,
   "id": "6732d597",
   "metadata": {},
   "outputs": [],
   "source": [
    "shock_component = ['Alimentos fuera del hogar',\n",
    "                   'Azúcares', 'Bebidas no alcohólicas',\n",
    "                   'Carnes, aves y huevos',\n",
    "                   'Frutas', \n",
    "                   'Granos',\n",
    "                   'Panes y\\ncereales',\n",
    "                   'Grasas', \n",
    "                   'Leguminosas',\n",
    "                   'Lácteos', \n",
    "                   'Productos no especificados previamente',\n",
    "                   'Raíces y\\ntubérculos', 'Vegetales'\n",
    "                  ]\n",
    "shock_weights = [i/100 for i in range(0,60,10) ]\n",
    "simulations_concat = scldata_simulation.simulate_changes(shock_component, shock_weights, shock_population, gdp_growth_population='', year='2022')\n",
    "simulations_concat['shock_component'] = ''.join(shock_component)\n",
    "simulations_concat.to_csv('../data/simulations_concat_all.csv', index=False)"
   ]
  },
  {
   "cell_type": "code",
   "execution_count": 30,
   "id": "2345d26e",
   "metadata": {},
   "outputs": [
    {
     "data": {
      "image/png": "[encoded data removed]",
      "text/plain": [
       "<Figure size 3000x800 with 2 Axes>"
      ]
     },
     "metadata": {},
     "output_type": "display_data"
    }
   ],
   "source": [
    "fig=plt.figure(figsize=(30,8), dpi= 100, facecolor='w', edgecolor='k')\n",
    "\n",
    "variables = ['poor_national', 'poor_e_national']\n",
    "for variable in variables:\n",
    "    simulations_concat[variable +'_diff'] = (simulations_concat[variable + '_delta'] - simulations_concat[variable])*100  \n",
    "\n",
    "variables = [x + '_diff' for x in variables]\n",
    "variables.extend(['anio_c', 'pais_c'])\n",
    "\n",
    "simulations_melt = pd.melt(simulations_concat[variables],id_vars=['anio_c', 'pais_c'],\n",
    "                           var_name='metrics',\n",
    "                           value_name='values')\n",
    "simulations_melt['color'] = np.where(simulations_melt['metrics']=='poor_national_diff', 'grey', 'red')\n",
    "\n",
    "\n",
    "\n",
    "for i,variable in enumerate(['poor_national_diff', 'poor_e_national_diff']):\n",
    "    ordered_df = simulations_melt[simulations_melt.metrics==variable]\n",
    "    #ordered_df = ordered_df.sort_values(by=[ 'pais_c'], ascending=False)\n",
    "    ordered_df = ordered_df.sort_values(by=[ 'values'], ascending=False)\n",
    "    \n",
    "    # Subplot\n",
    "    plt.subplot(1,3,i+1)\n",
    "    #plt.figure(figsize = (9,5))\n",
    "    my_range=range(1, len(ordered_df.index)+1 )\n",
    "    \n",
    "    # Distribution in changes in PL\n",
    "    ax = sns.boxplot(x = 'pais_c', y = 'values', data = ordered_df)\n",
    "    plt.xlabel('')\n",
    "    plt.ylabel('')\n",
    "    plt.title('Poverty rate changes (percentual points) ' + variable)\n",
    "    ax.tick_params(axis='x', rotation=90)\n",
    "\n",
    "plt.show()"
   ]
  }
 ],
 "metadata": {
  "kernelspec": {
   "display_name": "conda_python3",
   "language": "python",
   "name": "conda_python3"
  },
  "language_info": {
   "codemirror_mode": {
    "name": "ipython",
    "version": 3
   },
   "file_extension": ".py",
   "mimetype": "text/x-python",
   "name": "python",
   "nbconvert_exporter": "python",
   "pygments_lexer": "ipython3",
   "version": "3.6.13"
  }
 },
 "nbformat": 4,
 "nbformat_minor": 5
}
