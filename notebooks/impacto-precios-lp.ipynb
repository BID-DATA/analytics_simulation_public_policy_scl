{
 "cells": [
  {
   "cell_type": "markdown",
   "id": "a45e5a06",
   "metadata": {},
   "source": [
    "# Rising Food Prices and Poverty in Latin America and the Caribbean:\n",
    "## Effect of Ukrainian invasion\n",
    "\n",
    "_Lina Arias, Laura Goyeneche; Roberto Sanchez; Luis Tejerina; Eric Torres_"
   ]
  },
  {
   "cell_type": "markdown",
   "id": "c4402cf9",
   "metadata": {},
   "source": [
    "### Index \n",
    "\n",
    "1. <a href = \"#int\" >Introduction</a>\n",
    "2. <a href = \"#met\" >Methodology</a>\n",
    "3. <a href = \"#dat\" >Data Preparation</a>\n",
    "4. <a href = \"#sta\" >Poverty rates</a>\n",
    "5. <a href = \"#sen\" >Poverty rates simulation</a>\n",
    "6. <a href = \"#con\" >Conclusion</a>\n",
    "7. <a href = \"#ref\" >References</a>"
   ]
  },
  {
   "cell_type": "markdown",
   "id": "03997723",
   "metadata": {},
   "source": [
    "## <a id = \"int\">Introduction</a>"
   ]
  },
  {
   "cell_type": "markdown",
   "id": "baecc930",
   "metadata": {},
   "source": [
    "TEXTO"
   ]
  },
  {
   "cell_type": "markdown",
   "id": "1aec3ad2",
   "metadata": {},
   "source": [
    "### Library"
   ]
  },
  {
   "cell_type": "code",
   "execution_count": 1,
   "id": "0ae04643",
   "metadata": {},
   "outputs": [
    {
     "data": {
      "text/plain": [
       "True"
      ]
     },
     "execution_count": 1,
     "metadata": {},
     "output_type": "execute_result"
    }
   ],
   "source": [
    "import numpy as np\n",
    "import pandas as pd\n",
    "from dotenv import load_dotenv\n",
    "load_dotenv()"
   ]
  },
  {
   "cell_type": "code",
   "execution_count": 10,
   "id": "4fa5ca62",
   "metadata": {},
   "outputs": [],
   "source": [
    "%%capture\n",
    "%matplotlib inline\n",
    "!pip install seaborn\n",
    "import matplotlib.pyplot as plt\n",
    "import seaborn as sns\n",
    "sns.set_theme()"
   ]
  },
  {
   "cell_type": "markdown",
   "id": "5d24f283",
   "metadata": {},
   "source": [
    "### Working directory"
   ]
  },
  {
   "cell_type": "code",
   "execution_count": 4,
   "id": "30c4e2b5",
   "metadata": {},
   "outputs": [],
   "source": [
    "## Working directory\n",
    "scldatalake = \"s3://cf-p-scldata-prod-s3-p-scldata-app\"\n",
    "\n",
    "# Harmonized data\n",
    "harmonized  = \"Household Socio-Economic Surveys/Harmonized Household Surveys\"\n",
    "\n",
    "# Poverty lines \n",
    "povertyline = \"Data Projects/International Poverty Lines/international_poverty_lines.csv\"\n",
    "pl          = pd.read_csv(f'{scldatalake}/{povertyline}')"
   ]
  },
  {
   "cell_type": "markdown",
   "id": "e51d6969",
   "metadata": {},
   "source": [
    "### Data Preparation"
   ]
  },
  {
   "cell_type": "markdown",
   "id": "bf2f059e",
   "metadata": {},
   "source": [
    "#### Harmonized HH Surveys"
   ]
  },
  {
   "cell_type": "code",
   "execution_count": 5,
   "id": "2a08cda8",
   "metadata": {},
   "outputs": [
    {
     "name": "stderr",
     "output_type": "stream",
     "text": [
      "/home/ec2-user/anaconda3/envs/JupyterSystemEnv/lib/python3.7/site-packages/IPython/core/interactiveshell.py:3457: DtypeWarning: Columns (7,8) have mixed types.Specify dtype option on import or set low_memory=False.\n",
      "  exec(code_obj, self.user_global_ns, self.user_ns)\n"
     ]
    }
   ],
   "source": [
    "hh = pd.read_csv(f'{scldatalake}/{harmonized}/concat/harmonized-latest-v3.csv')"
   ]
  },
  {
   "cell_type": "code",
   "execution_count": 6,
   "id": "7a5a1b38",
   "metadata": {},
   "outputs": [
    {
     "data": {
      "text/plain": [
       "Index(['region_BID_c', 'region_c', 'pais_c', 'anio_c', 'mes_c', 'zona_c',\n",
       "       'factor_ch', 'upm_ci', 'estrato_ci', 'idh_ch',\n",
       "       ...\n",
       "       'ysegmento_ci', 'lpe_ci.1', 'ytot_ci', 'ytot_ch', 'ytot_ci_ofi',\n",
       "       'pc_ytot_ch_ofi', 'poor', 'poor31', 'poor_national', 'poor_e_national'],\n",
       "      dtype='object', length=172)"
      ]
     },
     "execution_count": 6,
     "metadata": {},
     "output_type": "execute_result"
    }
   ],
   "source": [
    "hh.columns"
   ]
  },
  {
   "cell_type": "code",
   "execution_count": null,
   "id": "7973282e",
   "metadata": {},
   "outputs": [],
   "source": [
    "%%capture\n",
    "\n",
    "# Define import method\n",
    "option = 1 \n",
    "\n",
    "# Calculate HH income\n",
    "if option == 1:\n",
    "    # Import data \n",
    "    hh = pd.read_csv(f'{scldatalake}/{harmonized}/concat/harmonized-latest-v3.csv')\n",
    "    hh.columns = [i.strip() for i in hh.columns]\n",
    "    \n",
    "    # Generate HH income\n",
    "    ytot_ci_vars  = ['ylm_ci','ylnm_ci','ynlm_ci','ynlnm_ci']\n",
    "    hh['ytot_ci'] = hh.loc[hh.miembros_ci == 1, ytot_ci_vars].sum(axis = 1)\n",
    "    hh['ytot_ch'] = hh.loc[hh.miembros_ci == 1,].groupby(['idh_ch','pais_c']).ytot_ci.transform(sum)\n",
    "    hh.loc[hh.ytot_ch < 0,'ytot_ch'] = np.nan\n",
    "    hh['pc_ytot_ch'] = hh.ytot_ch / hh.nmiembros_ch\n",
    "    \n",
    "    # Principal activities\n",
    "    hh['sec_agri']   = np.where(((hh['categopri_ci'] == 1) | (hh['categopri_ci'] == 2)) & ((hh['rama_ci'] == 1) \n",
    "                                                                                           #| (hh['ramasec_ci'] == 1)\n",
    "                                                                                          )  , 1, 0)\n",
    "    hh['sec_transp'] = np.where(((hh['categopri_ci'] == 1) | (hh['categopri_ci'] == 2)) & ((hh['rama_ci'] == 7) \n",
    "                                                                                           #| (hh['ramasec_ci'] == 7)\n",
    "                                                                                          )  , 1, 0)\n",
    "    \n",
    "    # Select variables of interest\n",
    "    hh = hh[['pais_c','anio_c','mes_c','factor_ch','idh_ch','ytot_ch','pc_ytot_ch','sec_agri','sec_transp']]\n",
    "    \n",
    "else: \n",
    "    hh = []\n",
    "    for year in range(2010,2021)[::-1]:      \n",
    "        # Import data\n",
    "        data = pd.read_csv(f'{scldatalake}/{harmonized}/concat/csv/harmonized-{year}.csv')\n",
    "\n",
    "        # HH income \n",
    "        ytot_ci_vars    = ['ylm_ci','ylnm_ci','ynlm_ci','ynlnm_ci']\n",
    "        data['ytot_ci'] = data.loc[data.miembros_ci == 1, ytot_ci_vars].sum(axis = 1)\n",
    "        data['ytot_ch'] = data.loc[data.miembros_ci == 1,].groupby(['idh_ch','pais_c']).ytot_ci.transform(sum)\n",
    "        data.loc[data.ytot_ch < 0,'ytot_ch'] = np.nan\n",
    "        data['pc_ytot_ch'] = data.ytot_ch / data.nmiembros_ch\n",
    "        \n",
    "        # Select variables of interest\n",
    "        data = data[['pais_c','anio_c','mes_c','factor_ch','idh_ch','ytot_ch','pc_ytot_ch']]\n",
    "\n",
    "        # Append to master list\n",
    "        hh.append(data)\n",
    "        \n",
    "    # Create dataframe\n",
    "    hh = pd.concat(hh)\n",
    "\n",
    "    # Keep most recent data \n",
    "    hh['recent_'] = hh.groupby('pais_c').anio_c.transform(max)\n",
    "    hh = hh[hh.anio_c == hh.recent_]\n",
    "    hh = hh.drop(columns = 'recent_')"
   ]
  },
  {
   "cell_type": "code",
   "execution_count": 5,
   "id": "5c6fc730",
   "metadata": {},
   "outputs": [
    {
     "name": "stdout",
     "output_type": "stream",
     "text": [
      "Number of countries:  25\n",
      "['ARG', 'BHS', 'BLZ', 'BOL', 'BRA', 'BRB', 'CHL', 'COL', 'CRI', 'DOM', 'ECU', 'GTM', 'GUY', 'HND', 'JAM', 'MEX', 'NIC', 'PAN', 'PER', 'PRY', 'SLV', 'SUR', 'TTO', 'URY', 'VEN']\n"
     ]
    }
   ],
   "source": [
    "# Countries included\n",
    "print('Number of countries: ',hh.pais_c.unique().shape[0])\n",
    "print(hh.pais_c.unique().tolist())"
   ]
  },
  {
   "cell_type": "markdown",
   "id": "659ab7c0",
   "metadata": {},
   "source": [
    "#### Validacion MEX"
   ]
  },
  {
   "cell_type": "code",
   "execution_count": 73,
   "id": "062c4e18",
   "metadata": {},
   "outputs": [],
   "source": [
    "# Import data\n",
    "%%capture\n",
    "hh_ = pd.read_stata(f'{scldatalake}/{harmonized}/MEX/ENIGH/data_arm/MEX_2020v2_BID.dta')"
   ]
  },
  {
   "cell_type": "code",
   "execution_count": 115,
   "id": "62ab923d",
   "metadata": {},
   "outputs": [],
   "source": [
    "# Calcular variable de ingresos\n",
    "ytot_ci_vars  = [i for i in hh_.columns if 'ing_' in i]\n",
    "ytot_ci_vars  = ['ing_lab']\n",
    "hh_['ytot_ci'] = hh_.loc[hh_.miembros_ci == 1, ytot_ci_vars].sum(axis = 1)\n",
    "hh_['ytot_ch'] = hh_.loc[hh_.miembros_ci == 1,].groupby(['idh_ch','pais_c']).ytot_ci.transform(sum)\n",
    "hh_.loc[hh_.ytot_ch < 0,'ytot_ch'] = np.nan\n",
    "hh_['pc_ytot_ch'] = hh_.ytot_ch / hh_.nmiembros_ch"
   ]
  },
  {
   "cell_type": "code",
   "execution_count": 116,
   "id": "e32aff85",
   "metadata": {},
   "outputs": [
    {
     "data": {
      "text/plain": [
       "12.342793740679694"
      ]
     },
     "execution_count": 116,
     "metadata": {},
     "output_type": "execute_result"
    }
   ],
   "source": [
    "# Tasa de pobreza\n",
    "((((hh_.pc_ytot_ch < pl[pl.pais_c == 'MEX'].lp5_2011.item()).astype(int) * hh_.factor_ch).sum()) * 100 ) / hh_.factor_ch.sum()"
   ]
  },
  {
   "cell_type": "code",
   "execution_count": 117,
   "id": "487601d1",
   "metadata": {},
   "outputs": [],
   "source": [
    "# Principal activities\n",
    "hh_['sec_agri']   = np.where(((hh_['categopri_ci'] == \"Patron\") | (hh_['categopri_ci'] == \"Cuenta propia\")) & ((hh_['rama_ci'] == \"Agricultura, caza, silvicultura y pesca\")), 1, 0)\n",
    "hh_['sec_agri_2'] = np.where(((hh_['categosec_ci'] == \"Patron\") | (hh_['categosec_ci'] == \"Cuenta propia\")) & ((hh_['ramasec_ci'] == \"Agricultura, caza, silvicultura y pesca\")), 1, 0)\n",
    "hh_['sec_agri']   = ((hh_.sec_agri + hh_.sec_agri_2) > 0).astype(int)"
   ]
  },
  {
   "cell_type": "code",
   "execution_count": 118,
   "id": "49402a37",
   "metadata": {},
   "outputs": [],
   "source": [
    "# Select variables of interest\n",
    "hh__ = hh_[['pais_c','anio_c','factor_ch','idh_ch','ytot_ch','pc_ytot_ch','sec_agri','sec_agri_2']]"
   ]
  },
  {
   "cell_type": "markdown",
   "id": "82796bb6",
   "metadata": {},
   "source": [
    "#### Poverty lines"
   ]
  },
  {
   "cell_type": "code",
   "execution_count": 9,
   "id": "17fb580f",
   "metadata": {},
   "outputs": [],
   "source": [
    "# Reshape long to wide \n",
    "index = ['year','isoalpha3']\n",
    "pl = pl.pivot(index = index, columns = 'indicator', values = 'value')\n",
    "pl = pl.reset_index()\n",
    "pl = pl.drop(columns = ['ppp_wdi2011','tc_wdi'])\n",
    "pl = pl.rename(columns = {'isoalpha3':'code'})\n",
    "\n",
    "# CPI 2011 = 100\n",
    "pl['cpi_2011' ] = [pl[(pl.code == x) & (pl.year == 2011)].cpi.item() for x in pl.code]\n",
    "\n",
    "# Keep most recent year\n",
    "pl = pl[pl.year == 2020]\n",
    "\n",
    "# Rename variables for merge \n",
    "pl.rename(columns = {'code':'pais_c'}, inplace = True)"
   ]
  },
  {
   "cell_type": "code",
   "execution_count": 15,
   "id": "8871e589",
   "metadata": {},
   "outputs": [
    {
     "data": {
      "text/html": [
       "<div>\n",
       "<style scoped>\n",
       "    .dataframe tbody tr th:only-of-type {\n",
       "        vertical-align: middle;\n",
       "    }\n",
       "\n",
       "    .dataframe tbody tr th {\n",
       "        vertical-align: top;\n",
       "    }\n",
       "\n",
       "    .dataframe thead th {\n",
       "        text-align: right;\n",
       "    }\n",
       "</style>\n",
       "<table border=\"1\" class=\"dataframe\">\n",
       "  <thead>\n",
       "    <tr style=\"text-align: right;\">\n",
       "      <th>indicator</th>\n",
       "      <th>year</th>\n",
       "      <th>pais_c</th>\n",
       "      <th>cpi</th>\n",
       "      <th>cpi_2011</th>\n",
       "      <th>lp19_2011</th>\n",
       "      <th>lp31_2011</th>\n",
       "      <th>lp5_2011</th>\n",
       "      <th>ppp_2011</th>\n",
       "      <th>lp_nat</th>\n",
       "    </tr>\n",
       "  </thead>\n",
       "  <tbody>\n",
       "    <tr>\n",
       "      <th>806</th>\n",
       "      <td>2020</td>\n",
       "      <td>ARG</td>\n",
       "      <td>6.192070e+02</td>\n",
       "      <td>7.143000e+01</td>\n",
       "      <td>1583.679900</td>\n",
       "      <td>2583.89890</td>\n",
       "      <td>4167.57860</td>\n",
       "      <td>3.161164</td>\n",
       "      <td></td>\n",
       "    </tr>\n",
       "    <tr>\n",
       "      <th>807</th>\n",
       "      <td>2020</td>\n",
       "      <td>BHS</td>\n",
       "      <td>1.080700e+02</td>\n",
       "      <td>9.654600e+01</td>\n",
       "      <td>72.791206</td>\n",
       "      <td>118.76460</td>\n",
       "      <td>191.55580</td>\n",
       "      <td>1.125234</td>\n",
       "      <td>352.3</td>\n",
       "    </tr>\n",
       "    <tr>\n",
       "      <th>808</th>\n",
       "      <td>2020</td>\n",
       "      <td>BLZ</td>\n",
       "      <td>1.000000e+02</td>\n",
       "      <td>9.564200e+01</td>\n",
       "      <td>70.940338</td>\n",
       "      <td>115.74477</td>\n",
       "      <td>186.68510</td>\n",
       "      <td>1.174023</td>\n",
       "      <td>193.4</td>\n",
       "    </tr>\n",
       "    <tr>\n",
       "      <th>809</th>\n",
       "      <td>2020</td>\n",
       "      <td>BOL</td>\n",
       "      <td>1.044220e+02</td>\n",
       "      <td>7.664000e+01</td>\n",
       "      <td>227.642620</td>\n",
       "      <td>371.41690</td>\n",
       "      <td>599.05951</td>\n",
       "      <td>2.891025</td>\n",
       "      <td></td>\n",
       "    </tr>\n",
       "    <tr>\n",
       "      <th>810</th>\n",
       "      <td>2020</td>\n",
       "      <td>BRA</td>\n",
       "      <td>3.550000e+13</td>\n",
       "      <td>2.190000e+13</td>\n",
       "      <td>154.612950</td>\n",
       "      <td>252.26324</td>\n",
       "      <td>406.87619</td>\n",
       "      <td>1.651221</td>\n",
       "      <td>450</td>\n",
       "    </tr>\n",
       "  </tbody>\n",
       "</table>\n",
       "</div>"
      ],
      "text/plain": [
       "indicator  year pais_c           cpi      cpi_2011    lp19_2011   lp31_2011  \\\n",
       "806        2020    ARG  6.192070e+02  7.143000e+01  1583.679900  2583.89890   \n",
       "807        2020    BHS  1.080700e+02  9.654600e+01    72.791206   118.76460   \n",
       "808        2020    BLZ  1.000000e+02  9.564200e+01    70.940338   115.74477   \n",
       "809        2020    BOL  1.044220e+02  7.664000e+01   227.642620   371.41690   \n",
       "810        2020    BRA  3.550000e+13  2.190000e+13   154.612950   252.26324   \n",
       "\n",
       "indicator    lp5_2011  ppp_2011 lp_nat  \n",
       "806        4167.57860  3.161164         \n",
       "807         191.55580  1.125234  352.3  \n",
       "808         186.68510  1.174023  193.4  \n",
       "809         599.05951  2.891025         \n",
       "810         406.87619  1.651221    450  "
      ]
     },
     "execution_count": 15,
     "metadata": {},
     "output_type": "execute_result"
    }
   ],
   "source": [
    "pl.head()"
   ]
  },
  {
   "cell_type": "code",
   "execution_count": 19,
   "id": "7730d890",
   "metadata": {},
   "outputs": [],
   "source": [
    "# Temporal\n",
    "# Add official poverty lines \n",
    "temp_ = {'BHS':352.3,'BLZ':193.4,'BRA':450,'CHL':174131,'COL':369521.2,'CRI':99352.5,'CRI':101485,'DOM':5329.3,'GTM':851.5,'HND':2701.2,'JAM':110956.7,'MEX':3040,'NIC':707.2,'PAN':129.7,'SLV':88.3,'SUR':618.9,'TTO':421.3}\n",
    "pl['lp_nat'] = pl.pais_c.replace(temp_)\n",
    "pl.lp_nat = np.where(pl.lp_nat == pl.pais_c,np.nan,pl.lp_nat)"
   ]
  },
  {
   "cell_type": "code",
   "execution_count": 20,
   "id": "df2edd6a",
   "metadata": {},
   "outputs": [],
   "source": [
    "tasas = hh.merge(pl[['pais_c','lp_nat']], on = 'pais_c', how = 'left')"
   ]
  },
  {
   "cell_type": "code",
   "execution_count": 21,
   "id": "0d00b63c",
   "metadata": {},
   "outputs": [],
   "source": [
    "tasas['poor05_net'] = (tasas.pc_ytot_ch < tasas.lp_nat).astype(int) * tasas.factor_ch"
   ]
  },
  {
   "cell_type": "code",
   "execution_count": 23,
   "id": "eb8e7ca9",
   "metadata": {},
   "outputs": [],
   "source": [
    "tasas = tasas.groupby(['pais_c','anio_c'])[['poor05_net','lp_nat','factor_ch']].sum()\n",
    "tasas = tasas.reset_index()"
   ]
  },
  {
   "cell_type": "code",
   "execution_count": 24,
   "id": "a92fcb31",
   "metadata": {},
   "outputs": [],
   "source": [
    "tasas['poor05_net'] = (tasas['poor05_net'] / tasas.factor_ch) * 100 "
   ]
  },
  {
   "cell_type": "code",
   "execution_count": 26,
   "id": "5ce5dea9",
   "metadata": {},
   "outputs": [
    {
     "data": {
      "text/html": [
       "<div>\n",
       "<style scoped>\n",
       "    .dataframe tbody tr th:only-of-type {\n",
       "        vertical-align: middle;\n",
       "    }\n",
       "\n",
       "    .dataframe tbody tr th {\n",
       "        vertical-align: top;\n",
       "    }\n",
       "\n",
       "    .dataframe thead th {\n",
       "        text-align: right;\n",
       "    }\n",
       "</style>\n",
       "<table border=\"1\" class=\"dataframe\">\n",
       "  <thead>\n",
       "    <tr style=\"text-align: right;\">\n",
       "      <th></th>\n",
       "      <th>pais_c</th>\n",
       "      <th>anio_c</th>\n",
       "      <th>poor05_net</th>\n",
       "      <th>factor_ch</th>\n",
       "    </tr>\n",
       "  </thead>\n",
       "  <tbody>\n",
       "    <tr>\n",
       "      <th>1</th>\n",
       "      <td>BHS</td>\n",
       "      <td>2014.0</td>\n",
       "      <td>21.487088</td>\n",
       "      <td>1.977907e+05</td>\n",
       "    </tr>\n",
       "    <tr>\n",
       "      <th>2</th>\n",
       "      <td>BLZ</td>\n",
       "      <td>2007.0</td>\n",
       "      <td>29.533957</td>\n",
       "      <td>3.139237e+05</td>\n",
       "    </tr>\n",
       "    <tr>\n",
       "      <th>4</th>\n",
       "      <td>BRA</td>\n",
       "      <td>2020.0</td>\n",
       "      <td>24.071303</td>\n",
       "      <td>2.110965e+08</td>\n",
       "    </tr>\n",
       "    <tr>\n",
       "      <th>6</th>\n",
       "      <td>CHL</td>\n",
       "      <td>2020.0</td>\n",
       "      <td>44.931225</td>\n",
       "      <td>1.954580e+07</td>\n",
       "    </tr>\n",
       "    <tr>\n",
       "      <th>7</th>\n",
       "      <td>COL</td>\n",
       "      <td>2020.0</td>\n",
       "      <td>50.437928</td>\n",
       "      <td>4.962024e+07</td>\n",
       "    </tr>\n",
       "    <tr>\n",
       "      <th>8</th>\n",
       "      <td>CRI</td>\n",
       "      <td>2021.0</td>\n",
       "      <td>33.870581</td>\n",
       "      <td>5.163413e+06</td>\n",
       "    </tr>\n",
       "    <tr>\n",
       "      <th>9</th>\n",
       "      <td>DOM</td>\n",
       "      <td>2020.0</td>\n",
       "      <td>37.770946</td>\n",
       "      <td>1.048096e+07</td>\n",
       "    </tr>\n",
       "    <tr>\n",
       "      <th>11</th>\n",
       "      <td>GTM</td>\n",
       "      <td>2019.0</td>\n",
       "      <td>58.695325</td>\n",
       "      <td>1.755321e+07</td>\n",
       "    </tr>\n",
       "    <tr>\n",
       "      <th>13</th>\n",
       "      <td>HND</td>\n",
       "      <td>2019.0</td>\n",
       "      <td>64.270571</td>\n",
       "      <td>2.251019e+06</td>\n",
       "    </tr>\n",
       "    <tr>\n",
       "      <th>14</th>\n",
       "      <td>JAM</td>\n",
       "      <td>2018.0</td>\n",
       "      <td>79.668642</td>\n",
       "      <td>3.157965e+06</td>\n",
       "    </tr>\n",
       "    <tr>\n",
       "      <th>15</th>\n",
       "      <td>MEX</td>\n",
       "      <td>2020.0</td>\n",
       "      <td>99.564250</td>\n",
       "      <td>1.267609e+08</td>\n",
       "    </tr>\n",
       "    <tr>\n",
       "      <th>16</th>\n",
       "      <td>NIC</td>\n",
       "      <td>2014.0</td>\n",
       "      <td>20.869996</td>\n",
       "      <td>3.367888e+07</td>\n",
       "    </tr>\n",
       "    <tr>\n",
       "      <th>17</th>\n",
       "      <td>PAN</td>\n",
       "      <td>2019.0</td>\n",
       "      <td>22.444004</td>\n",
       "      <td>4.076474e+06</td>\n",
       "    </tr>\n",
       "    <tr>\n",
       "      <th>20</th>\n",
       "      <td>SLV</td>\n",
       "      <td>2020.0</td>\n",
       "      <td>34.839379</td>\n",
       "      <td>6.321042e+06</td>\n",
       "    </tr>\n",
       "    <tr>\n",
       "      <th>21</th>\n",
       "      <td>SUR</td>\n",
       "      <td>2017.0</td>\n",
       "      <td>55.956397</td>\n",
       "      <td>4.943722e+05</td>\n",
       "    </tr>\n",
       "    <tr>\n",
       "      <th>22</th>\n",
       "      <td>TTO</td>\n",
       "      <td>2015.0</td>\n",
       "      <td>35.614546</td>\n",
       "      <td>1.370328e+06</td>\n",
       "    </tr>\n",
       "  </tbody>\n",
       "</table>\n",
       "</div>"
      ],
      "text/plain": [
       "   pais_c  anio_c  poor05_net     factor_ch\n",
       "1     BHS  2014.0   21.487088  1.977907e+05\n",
       "2     BLZ  2007.0   29.533957  3.139237e+05\n",
       "4     BRA  2020.0   24.071303  2.110965e+08\n",
       "6     CHL  2020.0   44.931225  1.954580e+07\n",
       "7     COL  2020.0   50.437928  4.962024e+07\n",
       "8     CRI  2021.0   33.870581  5.163413e+06\n",
       "9     DOM  2020.0   37.770946  1.048096e+07\n",
       "11    GTM  2019.0   58.695325  1.755321e+07\n",
       "13    HND  2019.0   64.270571  2.251019e+06\n",
       "14    JAM  2018.0   79.668642  3.157965e+06\n",
       "15    MEX  2020.0   99.564250  1.267609e+08\n",
       "16    NIC  2014.0   20.869996  3.367888e+07\n",
       "17    PAN  2019.0   22.444004  4.076474e+06\n",
       "20    SLV  2020.0   34.839379  6.321042e+06\n",
       "21    SUR  2017.0   55.956397  4.943722e+05\n",
       "22    TTO  2015.0   35.614546  1.370328e+06"
      ]
     },
     "execution_count": 26,
     "metadata": {},
     "output_type": "execute_result"
    }
   ],
   "source": [
    "tasas[tasas.poor05_net > 0]"
   ]
  },
  {
   "cell_type": "markdown",
   "id": "b35f17a7",
   "metadata": {},
   "source": [
    "### International Poverty Lines Function"
   ]
  },
  {
   "cell_type": "code",
   "execution_count": 61,
   "id": "71088b51",
   "metadata": {},
   "outputs": [],
   "source": [
    "# Poverty lines calculation\n",
    "def int_lp(hh, data, w, c):\n",
    "    # Create copy\n",
    "    data_ = data.copy()\n",
    "    hh_   = hh.copy()\n",
    "    \n",
    "    # Changes in CPI\n",
    "    data_['cpi_hat'] = data_.cpi * w * (1 + c) + data_.cpi * (1 - w)\n",
    "        \n",
    "    # CPI 2011 = 100\n",
    "    data_['cpi_ratio'] = data_.cpi_hat / data_.cpi_2011\n",
    "    \n",
    "    # Poverty lines \n",
    "    # Changes in CPI \n",
    "    data_['lp19_2011'] = (1.9*(365/12)) * data_.cpi_ratio * data_.ppp_2011\n",
    "    data_['lp31_2011'] = (3.1*(365/12)) * data_.cpi_ratio * data_.ppp_2011\n",
    "    data_['lp05_2011'] = (5.0*(365/12)) * data_.cpi_ratio * data_.ppp_2011\n",
    "\n",
    "    # Changes in PL \n",
    "    data_['lp19_2011_'] = ((1.9*(365/12)) * (data_.cpi / data_.cpi_2011) * data_.ppp_2011) * (1 + c)\n",
    "    data_['lp31_2011_'] = ((3.1*(365/12)) * (data_.cpi / data_.cpi_2011) * data_.ppp_2011) * (1 + c)\n",
    "    data_['lp05_2011_'] = ((5.0*(365/12)) * (data_.cpi / data_.cpi_2011) * data_.ppp_2011) * (1 + c)\n",
    "    \n",
    "    # Identify poverty lines vars\n",
    "    lp_vars = [name for name in data_.columns if 'lp' in name]\n",
    "    \n",
    "    # Adjust for changes in Venezuelan currency\n",
    "    for name in lp_vars:\n",
    "        data_.loc[data_.pais_c == 'VEN',name] = data_.loc[data_.pais_c == 'VEN',name] / 100000000\n",
    "    \n",
    "    # Merge with HH \n",
    "    tasas = hh_.merge(data_, on = 'pais_c', how = 'left')\n",
    "    \n",
    "    # Replace Nas in factor_ch\n",
    "    tasas.factor_ch = tasas.factor_ch.fillna(1)\n",
    "    \n",
    "    # Calculate poor indicator\n",
    "    # Changes in CPI\n",
    "    tasas['poor19'] = (tasas.pc_ytot_ch < tasas.lp19_2011).astype(int) * tasas.factor_ch\n",
    "    tasas['poor31'] = (tasas.pc_ytot_ch < tasas.lp31_2011).astype(int) * tasas.factor_ch\n",
    "    tasas['poor05'] = (tasas.pc_ytot_ch < tasas.lp05_2011).astype(int) * tasas.factor_ch\n",
    "    \n",
    "    # Changes in LP\n",
    "    tasas['poor19_'] = (tasas.pc_ytot_ch < tasas.lp19_2011_).astype(int) * tasas.factor_ch\n",
    "    tasas['poor31_'] = (tasas.pc_ytot_ch < tasas.lp31_2011_).astype(int) * tasas.factor_ch\n",
    "    tasas['poor05_'] = (tasas.pc_ytot_ch < tasas.lp05_2011_).astype(int) * tasas.factor_ch\n",
    "    \n",
    "    # Changes in income: agriculture and transportation\n",
    "    tasas['pc_ytot_ch_adj'] = np.where(tasas.sec_agri == 1, tasas.pc_ytot_ch * (1 + w), tasas.pc_ytot_ch)\n",
    "    tasas['poor19_net'] = (tasas.pc_ytot_ch_adj < tasas.lp19_2011_).astype(int) * tasas.factor_ch\n",
    "    tasas['poor31_net'] = (tasas.pc_ytot_ch_adj < tasas.lp31_2011_).astype(int) * tasas.factor_ch\n",
    "    tasas['poor05_net'] = (tasas.pc_ytot_ch_adj < tasas.lp05_2011_).astype(int) * tasas.factor_ch\n",
    "    \n",
    "    # Identify poverty rates vars\n",
    "    poor_vars = [name for name in tasas.columns if 'poor' in name]\n",
    "    \n",
    "    # Replace NA values\n",
    "    for name in poor_vars:\n",
    "        tasas[name].fillna(0, inplace = True)\n",
    "    \n",
    "    # Temporary count\n",
    "    tasas['n_temp'] = 1\n",
    "    \n",
    "    # Results\n",
    "    tasas = tasas.groupby(['pais_c','anio_c'])[poor_vars + lp_vars + ['factor_ch','n_temp']].sum()\n",
    "    tasas = tasas.reset_index()\n",
    "    # LAC: tasas = pd.DataFrame(tasas[poor_vars + lp_vars + ['factor_ch','n_temp']].sum()).T\n",
    "    \n",
    "    # Calculate % poor\n",
    "    for name in poor_vars:\n",
    "        tasas[f'{name}_n'] = tasas[name]\n",
    "        tasas[name] = (tasas[name] / tasas.factor_ch) * 100 \n",
    "\n",
    "    # Add variables\n",
    "    tasas['weight'] = w*100\n",
    "    tasas['change'] = c*100\n",
    "    \n",
    "    return tasas"
   ]
  },
  {
   "cell_type": "markdown",
   "id": "758072ae",
   "metadata": {},
   "source": [
    "### Simulation"
   ]
  },
  {
   "cell_type": "code",
   "execution_count": 8,
   "id": "b85ba112",
   "metadata": {},
   "outputs": [],
   "source": [
    "%%capture\n",
    "\n",
    "# Run multiple scenarios\n",
    "weight = [i/100 for i in range(0,65,5)]\n",
    "change = [i/100 for i in range(0,65,5) ]\n",
    "final  = []\n",
    "for i in weight:\n",
    "    for j in change:\n",
    "        final.append(int_lp(hh,pl,i,j))\n",
    "\n",
    "# Master table\n",
    "final = pd.concat(final)"
   ]
  },
  {
   "cell_type": "code",
   "execution_count": 120,
   "id": "a955faf4",
   "metadata": {},
   "outputs": [],
   "source": [
    "# Calculate changes in poverty \n",
    "for i in ['poor19','poor31','poor05']:\n",
    "    final[f'{i}_baseline'] = [final[(final.pais_c == x) & (final.weight == 0) & (final.change == 0)][i].item() for x in final.pais_c]\n",
    "    final[f'{i}_pp']       = final[i]          - final[f'{i}_baseline']\n",
    "    final[f'{i}_pp_']      = final[f'{i}_']    - final[f'{i}_baseline']\n",
    "    final[f'{i}_pp_net']   = final[f'{i}_net'] - final[f'{i}_baseline']"
   ]
  },
  {
   "cell_type": "code",
   "execution_count": 10,
   "id": "10e697db",
   "metadata": {},
   "outputs": [],
   "source": [
    "# Export results\n",
    "option = 0\n",
    "if option == 1{\n",
    "    final.to_csv('simulation-results.csv', index = False)\n",
    "}"
   ]
  },
  {
   "cell_type": "code",
   "execution_count": 121,
   "id": "f85df008",
   "metadata": {},
   "outputs": [
    {
     "data": {
      "text/html": [
       "<div>\n",
       "<style scoped>\n",
       "    .dataframe tbody tr th:only-of-type {\n",
       "        vertical-align: middle;\n",
       "    }\n",
       "\n",
       "    .dataframe tbody tr th {\n",
       "        vertical-align: top;\n",
       "    }\n",
       "\n",
       "    .dataframe thead th {\n",
       "        text-align: right;\n",
       "    }\n",
       "</style>\n",
       "<table border=\"1\" class=\"dataframe\">\n",
       "  <thead>\n",
       "    <tr style=\"text-align: right;\">\n",
       "      <th></th>\n",
       "      <th>pais_c</th>\n",
       "      <th>poor05_</th>\n",
       "      <th>poor05_net</th>\n",
       "      <th>poor05_baseline</th>\n",
       "      <th>weight</th>\n",
       "      <th>change</th>\n",
       "    </tr>\n",
       "  </thead>\n",
       "  <tbody>\n",
       "    <tr>\n",
       "      <th>0</th>\n",
       "      <td>MEX</td>\n",
       "      <td>12.342794</td>\n",
       "      <td>12.342794</td>\n",
       "      <td>12.342794</td>\n",
       "      <td>0.0</td>\n",
       "      <td>0.0</td>\n",
       "    </tr>\n",
       "    <tr>\n",
       "      <th>0</th>\n",
       "      <td>MEX</td>\n",
       "      <td>13.175974</td>\n",
       "      <td>13.175974</td>\n",
       "      <td>12.342794</td>\n",
       "      <td>0.0</td>\n",
       "      <td>10.0</td>\n",
       "    </tr>\n",
       "    <tr>\n",
       "      <th>0</th>\n",
       "      <td>MEX</td>\n",
       "      <td>13.904576</td>\n",
       "      <td>13.904576</td>\n",
       "      <td>12.342794</td>\n",
       "      <td>0.0</td>\n",
       "      <td>20.0</td>\n",
       "    </tr>\n",
       "    <tr>\n",
       "      <th>0</th>\n",
       "      <td>MEX</td>\n",
       "      <td>14.745674</td>\n",
       "      <td>14.745674</td>\n",
       "      <td>12.342794</td>\n",
       "      <td>0.0</td>\n",
       "      <td>30.0</td>\n",
       "    </tr>\n",
       "    <tr>\n",
       "      <th>0</th>\n",
       "      <td>MEX</td>\n",
       "      <td>12.342794</td>\n",
       "      <td>12.263492</td>\n",
       "      <td>12.342794</td>\n",
       "      <td>10.0</td>\n",
       "      <td>0.0</td>\n",
       "    </tr>\n",
       "    <tr>\n",
       "      <th>0</th>\n",
       "      <td>MEX</td>\n",
       "      <td>13.175974</td>\n",
       "      <td>13.087936</td>\n",
       "      <td>12.342794</td>\n",
       "      <td>10.0</td>\n",
       "      <td>10.0</td>\n",
       "    </tr>\n",
       "    <tr>\n",
       "      <th>0</th>\n",
       "      <td>MEX</td>\n",
       "      <td>13.904576</td>\n",
       "      <td>13.810793</td>\n",
       "      <td>12.342794</td>\n",
       "      <td>10.0</td>\n",
       "      <td>20.0</td>\n",
       "    </tr>\n",
       "    <tr>\n",
       "      <th>0</th>\n",
       "      <td>MEX</td>\n",
       "      <td>14.745674</td>\n",
       "      <td>14.632774</td>\n",
       "      <td>12.342794</td>\n",
       "      <td>10.0</td>\n",
       "      <td>30.0</td>\n",
       "    </tr>\n",
       "    <tr>\n",
       "      <th>0</th>\n",
       "      <td>MEX</td>\n",
       "      <td>12.342794</td>\n",
       "      <td>12.200803</td>\n",
       "      <td>12.342794</td>\n",
       "      <td>20.0</td>\n",
       "      <td>0.0</td>\n",
       "    </tr>\n",
       "    <tr>\n",
       "      <th>0</th>\n",
       "      <td>MEX</td>\n",
       "      <td>13.175974</td>\n",
       "      <td>13.016693</td>\n",
       "      <td>12.342794</td>\n",
       "      <td>20.0</td>\n",
       "      <td>10.0</td>\n",
       "    </tr>\n",
       "    <tr>\n",
       "      <th>0</th>\n",
       "      <td>MEX</td>\n",
       "      <td>13.904576</td>\n",
       "      <td>13.732930</td>\n",
       "      <td>12.342794</td>\n",
       "      <td>20.0</td>\n",
       "      <td>20.0</td>\n",
       "    </tr>\n",
       "    <tr>\n",
       "      <th>0</th>\n",
       "      <td>MEX</td>\n",
       "      <td>14.745674</td>\n",
       "      <td>14.548008</td>\n",
       "      <td>12.342794</td>\n",
       "      <td>20.0</td>\n",
       "      <td>30.0</td>\n",
       "    </tr>\n",
       "    <tr>\n",
       "      <th>0</th>\n",
       "      <td>MEX</td>\n",
       "      <td>12.342794</td>\n",
       "      <td>12.149190</td>\n",
       "      <td>12.342794</td>\n",
       "      <td>30.0</td>\n",
       "      <td>0.0</td>\n",
       "    </tr>\n",
       "    <tr>\n",
       "      <th>0</th>\n",
       "      <td>MEX</td>\n",
       "      <td>13.175974</td>\n",
       "      <td>12.952981</td>\n",
       "      <td>12.342794</td>\n",
       "      <td>30.0</td>\n",
       "      <td>10.0</td>\n",
       "    </tr>\n",
       "    <tr>\n",
       "      <th>0</th>\n",
       "      <td>MEX</td>\n",
       "      <td>13.904576</td>\n",
       "      <td>13.666429</td>\n",
       "      <td>12.342794</td>\n",
       "      <td>30.0</td>\n",
       "      <td>20.0</td>\n",
       "    </tr>\n",
       "    <tr>\n",
       "      <th>0</th>\n",
       "      <td>MEX</td>\n",
       "      <td>14.745674</td>\n",
       "      <td>14.475727</td>\n",
       "      <td>12.342794</td>\n",
       "      <td>30.0</td>\n",
       "      <td>30.0</td>\n",
       "    </tr>\n",
       "  </tbody>\n",
       "</table>\n",
       "</div>"
      ],
      "text/plain": [
       "  pais_c    poor05_  poor05_net  poor05_baseline  weight  change\n",
       "0    MEX  12.342794   12.342794        12.342794     0.0     0.0\n",
       "0    MEX  13.175974   13.175974        12.342794     0.0    10.0\n",
       "0    MEX  13.904576   13.904576        12.342794     0.0    20.0\n",
       "0    MEX  14.745674   14.745674        12.342794     0.0    30.0\n",
       "0    MEX  12.342794   12.263492        12.342794    10.0     0.0\n",
       "0    MEX  13.175974   13.087936        12.342794    10.0    10.0\n",
       "0    MEX  13.904576   13.810793        12.342794    10.0    20.0\n",
       "0    MEX  14.745674   14.632774        12.342794    10.0    30.0\n",
       "0    MEX  12.342794   12.200803        12.342794    20.0     0.0\n",
       "0    MEX  13.175974   13.016693        12.342794    20.0    10.0\n",
       "0    MEX  13.904576   13.732930        12.342794    20.0    20.0\n",
       "0    MEX  14.745674   14.548008        12.342794    20.0    30.0\n",
       "0    MEX  12.342794   12.149190        12.342794    30.0     0.0\n",
       "0    MEX  13.175974   12.952981        12.342794    30.0    10.0\n",
       "0    MEX  13.904576   13.666429        12.342794    30.0    20.0\n",
       "0    MEX  14.745674   14.475727        12.342794    30.0    30.0"
      ]
     },
     "execution_count": 121,
     "metadata": {},
     "output_type": "execute_result"
    }
   ],
   "source": [
    "final[(final.weight >= 0) & (final.change >= 0)][['pais_c','poor05_','poor05_net','poor05_baseline','weight','change']]"
   ]
  },
  {
   "cell_type": "markdown",
   "id": "9d616a25",
   "metadata": {},
   "source": [
    "#### Distribution of poverty rate changes in percentual points"
   ]
  },
  {
   "cell_type": "code",
   "execution_count": null,
   "id": "eb2aede7",
   "metadata": {},
   "outputs": [],
   "source": [
    "# Distribution in changes in poverty CPI\n",
    "plt.figure(figsize = (15,5))\n",
    "var = \"poor05_pp\"\n",
    "ax = sns.boxplot(x = 'pais_c', y = var, data = final[(final.weight == 25) & (final.change > 0)])\n",
    "plt.xlabel('')\n",
    "plt.ylabel('')\n",
    "plt.title('Poverty rate changes (percentual points)')\n",
    "plt.show()"
   ]
  },
  {
   "cell_type": "code",
   "execution_count": 12,
   "id": "f2540893",
   "metadata": {},
   "outputs": [
    {
     "data": {
      "image/png": "[encoded data removed]",
      "text/plain": [
       "<Figure size 1080x360 with 1 Axes>"
      ]
     },
     "metadata": {},
     "output_type": "display_data"
    }
   ],
   "source": [
    "# Distribution in changes in PL\n",
    "plt.figure(figsize = (15,5))\n",
    "var = \"poor05_pp_\"\n",
    "ax = sns.boxplot(x = 'pais_c', y = var, data = final[(final.weight == 0) & (final.change > 0)])\n",
    "plt.xlabel('')\n",
    "plt.ylabel('')\n",
    "plt.title('Poverty rate changes (percentual points)')\n",
    "plt.show()"
   ]
  },
  {
   "cell_type": "code",
   "execution_count": 20,
   "id": "20f89896",
   "metadata": {},
   "outputs": [
    {
     "data": {
      "image/png": "[encoded data removed]",
      "text/plain": [
       "<Figure size 1080x360 with 1 Axes>"
      ]
     },
     "metadata": {},
     "output_type": "display_data"
    }
   ],
   "source": [
    "# Distribution in changes in PL net\n",
    "plt.figure(figsize = (15,5))\n",
    "var = \"poor05_pp_net\"\n",
    "ax = sns.boxplot(x = 'pais_c', y = var, data = final[(final.weight > 0) & (final.change == 30)])\n",
    "plt.xlabel('')\n",
    "plt.ylabel('')\n",
    "plt.title('Poverty rate changes (percentual points)')\n",
    "plt.show()"
   ]
  },
  {
   "cell_type": "code",
   "execution_count": 23,
   "id": "3cbb2b0c",
   "metadata": {},
   "outputs": [
    {
     "data": {
      "image/png": "[encoded data removed]",
      "text/plain": [
       "<Figure size 1080x360 with 1 Axes>"
      ]
     },
     "metadata": {},
     "output_type": "display_data"
    }
   ],
   "source": [
    "# Distribution of differences in changes PL and PL net \n",
    "# Difference\n",
    "final['poor05_pp_diff'] = final.poor05_pp_ - final.poor05_pp_net\n",
    "\n",
    "# Figure\n",
    "plt.figure(figsize = (15,5))\n",
    "var = \"poor05_pp_diff\"\n",
    "ax = sns.boxplot(x = 'pais_c', y = var, data = final[(final.weight > 0) & (final.change > 0)])\n",
    "plt.xlabel('')\n",
    "plt.ylabel('')\n",
    "plt.title('Poverty rate changes (percentual points)')\n",
    "plt.show()"
   ]
  },
  {
   "cell_type": "markdown",
   "id": "30c87451",
   "metadata": {},
   "source": [
    "#### Distribution of poverty rate changes in percentual points by country"
   ]
  },
  {
   "cell_type": "markdown",
   "id": "d05ba2a1",
   "metadata": {},
   "source": [
    "##### Changes in CPI"
   ]
  },
  {
   "cell_type": "code",
   "execution_count": 14,
   "id": "4cd8fbb3",
   "metadata": {},
   "outputs": [
    {
     "data": {
      "image/png": "[encoded data removed]",
      "text/plain": [
       "<Figure size 1584x360 with 6 Axes>"
      ]
     },
     "metadata": {},
     "output_type": "display_data"
    }
   ],
   "source": [
    "# Ejemplo para Colombia\n",
    "# Data\n",
    "temp = final.copy()\n",
    "temp = temp.rename(columns = {'poor19_':'Income < $1.9pc/day','poor31_':'Income < $3.1pc/day','poor05_':'Income < $5.0pc/day'})\n",
    "temp = temp[temp.pais_c == \"COL\"]\n",
    "temp.weight = temp.weight.astype(int)\n",
    "temp.change = temp.change.astype(int)\n",
    "\n",
    "# Poverty level\n",
    "colnames = [i for i in temp.columns if 'Income' in i]\n",
    "\n",
    "# Figure by poverty level \n",
    "plt.figure(figsize = (22,5))\n",
    "\n",
    "for i,name in enumerate(colnames):\n",
    "    # Filter dataset\n",
    "    temp_ = pd.pivot_table(temp, values = name, index = 'weight', columns = 'change')\n",
    "    \n",
    "    # Subplot\n",
    "    plt.subplot(1,3,i+1)\n",
    "    ax = sns.heatmap(temp_, cmap = \"YlGnBu\")\n",
    "    \n",
    "    # Names and labels\n",
    "    plt.title(name)\n",
    "    ax.invert_yaxis()\n",
    "    plt.yticks(rotation = 0)\n",
    "    plt.ylabel('Weight')\n",
    "    plt.xlabel('Change')\n",
    "    \n",
    "plt.show()"
   ]
  }
 ],
 "metadata": {
  "kernelspec": {
   "display_name": "Python 3 (ipykernel)",
   "language": "python",
   "name": "python3"
  },
  "language_info": {
   "codemirror_mode": {
    "name": "ipython",
    "version": 3
   },
   "file_extension": ".py",
   "mimetype": "text/x-python",
   "name": "python",
   "nbconvert_exporter": "python",
   "pygments_lexer": "ipython3",
   "version": "3.7.12"
  }
 },
 "nbformat": 4,
 "nbformat_minor": 5
}
